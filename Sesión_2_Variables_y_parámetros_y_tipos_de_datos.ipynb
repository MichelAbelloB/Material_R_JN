{
  "nbformat": 4,
  "nbformat_minor": 0,
  "metadata": {
    "colab": {
      "name": "Sesión 2 Variables y parámetros y tipos de datos.ipynb",
      "provenance": [],
      "collapsed_sections": []
    },
    "kernelspec": {
      "name": "ir",
      "display_name": "R"
    },
    "language_info": {
      "name": "R"
    }
  },
  "cells": [
    {
      "cell_type": "markdown",
      "metadata": {
        "id": "rpoVzXbX9cvC"
      },
      "source": [
        "# Sesión 2 Tipos de información en R y funciones incorporadas\n",
        "\n",
        "\n",
        "# 1.0 Vectores de caracteres\n",
        "Los vectores y escalares pueden construirse usando caractéres de tipo 'string' en lugar de números. Todos los elementos en un vector deben ser del mísmo tipo. Por ejemplo:"
      ]
    },
    {
      "cell_type": "code",
      "metadata": {
        "id": "V5jCoAjb-ZyD"
      },
      "source": [
        "colores = c('red','yellow','blue')\n",
        "mas.colores = c(colores,'green','magenta','cyan') # este comando apendiza nuevos elementos a colores\n",
        "z = c('red','green',1)"
      ],
      "execution_count": null,
      "outputs": []
    },
    {
      "cell_type": "code",
      "metadata": {
        "colab": {
          "base_uri": "https://localhost:8080/",
          "height": 68
        },
        "id": "23b0Ujub-1Hh",
        "outputId": "97b9cd75-1720-4ea0-aa20-530f1be5af41"
      },
      "source": [
        "colores\n",
        "mas.colores\n",
        "z"
      ],
      "execution_count": null,
      "outputs": [
        {
          "output_type": "display_data",
          "data": {
            "text/plain": [
              "[1] \"red\"    \"yellow\" \"blue\"  "
            ],
            "text/latex": "\\begin{enumerate*}\n\\item 'red'\n\\item 'yellow'\n\\item 'blue'\n\\end{enumerate*}\n",
            "text/markdown": "1. 'red'\n2. 'yellow'\n3. 'blue'\n\n\n",
            "text/html": [
              "<style>\n",
              ".list-inline {list-style: none; margin:0; padding: 0}\n",
              ".list-inline>li {display: inline-block}\n",
              ".list-inline>li:not(:last-child)::after {content: \"\\00b7\"; padding: 0 .5ex}\n",
              "</style>\n",
              "<ol class=list-inline><li>'red'</li><li>'yellow'</li><li>'blue'</li></ol>\n"
            ]
          },
          "metadata": {
            "tags": []
          }
        },
        {
          "output_type": "display_data",
          "data": {
            "text/plain": [
              "[1] \"red\"     \"yellow\"  \"blue\"    \"green\"   \"magenta\" \"cyan\"   "
            ],
            "text/latex": "\\begin{enumerate*}\n\\item 'red'\n\\item 'yellow'\n\\item 'blue'\n\\item 'green'\n\\item 'magenta'\n\\item 'cyan'\n\\end{enumerate*}\n",
            "text/markdown": "1. 'red'\n2. 'yellow'\n3. 'blue'\n4. 'green'\n5. 'magenta'\n6. 'cyan'\n\n\n",
            "text/html": [
              "<style>\n",
              ".list-inline {list-style: none; margin:0; padding: 0}\n",
              ".list-inline>li {display: inline-block}\n",
              ".list-inline>li:not(:last-child)::after {content: \"\\00b7\"; padding: 0 .5ex}\n",
              "</style>\n",
              "<ol class=list-inline><li>'red'</li><li>'yellow'</li><li>'blue'</li><li>'green'</li><li>'magenta'</li><li>'cyan'</li></ol>\n"
            ]
          },
          "metadata": {
            "tags": []
          }
        },
        {
          "output_type": "display_data",
          "data": {
            "text/plain": [
              "[1] \"red\"   \"green\" \"1\"    "
            ],
            "text/latex": "\\begin{enumerate*}\n\\item 'red'\n\\item 'green'\n\\item '1'\n\\end{enumerate*}\n",
            "text/markdown": "1. 'red'\n2. 'green'\n3. '1'\n\n\n",
            "text/html": [
              "<style>\n",
              ".list-inline {list-style: none; margin:0; padding: 0}\n",
              ".list-inline>li {display: inline-block}\n",
              ".list-inline>li:not(:last-child)::after {content: \"\\00b7\"; padding: 0 .5ex}\n",
              "</style>\n",
              "<ol class=list-inline><li>'red'</li><li>'green'</li><li>'1'</li></ol>\n"
            ]
          },
          "metadata": {
            "tags": []
          }
        }
      ]
    },
    {
      "cell_type": "markdown",
      "metadata": {
        "id": "slM-Gy8b-7Kh"
      },
      "source": [
        "Para verificar el tipo de información que tenemos usamos una función incorporada en R conocida como *class*. \n",
        "\n",
        "Como el vector z tiene elementos del tipo 'character', entonces el número 1 que se encontraba ahí, pasa a tener este tipo de información."
      ]
    },
    {
      "cell_type": "code",
      "metadata": {
        "colab": {
          "base_uri": "https://localhost:8080/",
          "height": 34
        },
        "id": "UIP2Hq7o_SqI",
        "outputId": "35704e31-bd3e-49f3-dd37-f2dda1df6fd8"
      },
      "source": [
        "class(z)"
      ],
      "execution_count": null,
      "outputs": [
        {
          "output_type": "display_data",
          "data": {
            "text/plain": [
              "[1] \"character\""
            ],
            "text/latex": "'character'",
            "text/markdown": "'character'",
            "text/html": [
              "'character'"
            ]
          },
          "metadata": {
            "tags": []
          }
        }
      ]
    },
    {
      "cell_type": "markdown",
      "metadata": {
        "id": "qG8lhf9u_f3Z"
      },
      "source": [
        "Hay dos operaciones básicas que se podrían desarrollar sobre vectores de caracteres. Para tomar subcadenas, usamos\n",
        "\n",
        "\n",
        "```\n",
        "substr()\n",
        "```\n",
        "Este toma argumentos *substr(x,start,stop)*, donde *x* es un vector de cadenas de caracteres, y *start* y *stop* nos sugieren qué caracteres guardar. Por ejemplo, para imprimir las primeras dos letras de cada color usamos\n"
      ]
    },
    {
      "cell_type": "code",
      "metadata": {
        "colab": {
          "base_uri": "https://localhost:8080/",
          "height": 34
        },
        "id": "GfkIjjoTARA4",
        "outputId": "3587d16c-103b-4ea3-91bc-3142a4a55f07"
      },
      "source": [
        "substr(colores,1,2)"
      ],
      "execution_count": null,
      "outputs": [
        {
          "output_type": "display_data",
          "data": {
            "text/html": [
              "<style>\n",
              ".list-inline {list-style: none; margin:0; padding: 0}\n",
              ".list-inline>li {display: inline-block}\n",
              ".list-inline>li:not(:last-child)::after {content: \"\\00b7\"; padding: 0 .5ex}\n",
              "</style>\n",
              "<ol class=list-inline><li>'re'</li><li>'ye'</li><li>'bl'</li></ol>\n"
            ],
            "text/latex": "\\begin{enumerate*}\n\\item 're'\n\\item 'ye'\n\\item 'bl'\n\\end{enumerate*}\n",
            "text/markdown": "1. 're'\n2. 'ye'\n3. 'bl'\n\n\n",
            "text/plain": [
              "[1] \"re\" \"ye\" \"bl\""
            ]
          },
          "metadata": {
            "tags": []
          }
        }
      ]
    },
    {
      "cell_type": "markdown",
      "metadata": {
        "id": "n-ulaiG0AmfZ"
      },
      "source": [
        "La otra operación básica es la construcción de cadenas es vía concatenación. Usamos la función \n",
        "\n",
        "\n",
        "```\n",
        "paste()\n",
        "```\n",
        "para esto. Por ejemplo,\n"
      ]
    },
    {
      "cell_type": "code",
      "metadata": {
        "colab": {
          "base_uri": "https://localhost:8080/",
          "height": 34
        },
        "id": "nbuqv22DA8Vh",
        "outputId": "7e626c74-2d77-432b-e385-0fb62cd42d1d"
      },
      "source": [
        "paste(colores,'flowers')"
      ],
      "execution_count": null,
      "outputs": [
        {
          "output_type": "display_data",
          "data": {
            "text/plain": [
              "[1] \"red flowers\"    \"yellow flowers\" \"blue flowers\"  "
            ],
            "text/latex": "\\begin{enumerate*}\n\\item 'red flowers'\n\\item 'yellow flowers'\n\\item 'blue flowers'\n\\end{enumerate*}\n",
            "text/markdown": "1. 'red flowers'\n2. 'yellow flowers'\n3. 'blue flowers'\n\n\n",
            "text/html": [
              "<style>\n",
              ".list-inline {list-style: none; margin:0; padding: 0}\n",
              ".list-inline>li {display: inline-block}\n",
              ".list-inline>li:not(:last-child)::after {content: \"\\00b7\"; padding: 0 .5ex}\n",
              "</style>\n",
              "<ol class=list-inline><li>'red flowers'</li><li>'yellow flowers'</li><li>'blue flowers'</li></ol>\n"
            ]
          },
          "metadata": {
            "tags": []
          }
        }
      ]
    },
    {
      "cell_type": "markdown",
      "metadata": {
        "id": "JDneeBXGBOYL"
      },
      "source": [
        "Hay dos parámetros opcionales para el comando *paste()*. El parámetro *sep* controla lo que va entre las componentes que estamos concatenando. Podríamos no querer por defecto el espacio, por ejemplo:"
      ]
    },
    {
      "cell_type": "code",
      "metadata": {
        "colab": {
          "base_uri": "https://localhost:8080/",
          "height": 34
        },
        "id": "zQ-rkHvuBjpA",
        "outputId": "8c3e58d9-8a2e-467e-d099-3d857bbf7d08"
      },
      "source": [
        "paste('several',colores,'s', sep=\"/\")"
      ],
      "execution_count": null,
      "outputs": [
        {
          "output_type": "display_data",
          "data": {
            "text/plain": [
              "[1] \"several/red/s\"    \"several/yellow/s\" \"several/blue/s\"  "
            ],
            "text/latex": "\\begin{enumerate*}\n\\item 'several/red/s'\n\\item 'several/yellow/s'\n\\item 'several/blue/s'\n\\end{enumerate*}\n",
            "text/markdown": "1. 'several/red/s'\n2. 'several/yellow/s'\n3. 'several/blue/s'\n\n\n",
            "text/html": [
              "<style>\n",
              ".list-inline {list-style: none; margin:0; padding: 0}\n",
              ".list-inline>li {display: inline-block}\n",
              ".list-inline>li:not(:last-child)::after {content: \"\\00b7\"; padding: 0 .5ex}\n",
              "</style>\n",
              "<ol class=list-inline><li>'several/red/s'</li><li>'several/yellow/s'</li><li>'several/blue/s'</li></ol>\n"
            ]
          },
          "metadata": {
            "tags": []
          }
        }
      ]
    },
    {
      "cell_type": "markdown",
      "metadata": {
        "id": "jgA95_x2B6ca"
      },
      "source": [
        "El parámetro *collapse* para *paste()* permite que todos los componentes del vector resultante sean colapsados en una cadena singular:"
      ]
    },
    {
      "cell_type": "code",
      "metadata": {
        "colab": {
          "base_uri": "https://localhost:8080/",
          "height": 34
        },
        "id": "RvOnSOtcCIo5",
        "outputId": "f7662284-fc52-4965-825d-37e0de190343"
      },
      "source": [
        "paste('I like',colores,collapse = \",\")"
      ],
      "execution_count": null,
      "outputs": [
        {
          "output_type": "display_data",
          "data": {
            "text/plain": [
              "[1] \"I like red,I like yellow,I like blue\""
            ],
            "text/latex": "'I like red,I like yellow,I like blue'",
            "text/markdown": "'I like red,I like yellow,I like blue'",
            "text/html": [
              "'I like red,I like yellow,I like blue'"
            ]
          },
          "metadata": {
            "tags": []
          }
        }
      ]
    },
    {
      "cell_type": "markdown",
      "metadata": {
        "id": "7uGkSQkpnyto"
      },
      "source": [
        "# 1.1 Factores\n",
        "\n",
        "Los factores ofrecen una forma alternativa de almacenar información de tipo caracter. Por ejemplo, un factor con 4 elementos y que tiene dos niveles, *control* y *treatment* puede ser creada usando "
      ]
    },
    {
      "cell_type": "code",
      "metadata": {
        "colab": {
          "base_uri": "https://localhost:8080/",
          "height": 34
        },
        "id": "AF_JD4SooK32",
        "outputId": "07b57148-9a47-487b-b9e0-02c3a97c73c7"
      },
      "source": [
        "grp = c(\"control\",\"treatment\",\"control\",\"treatment\")\n",
        "grp"
      ],
      "execution_count": null,
      "outputs": [
        {
          "output_type": "display_data",
          "data": {
            "text/plain": [
              "[1] \"control\"   \"treatment\" \"control\"   \"treatment\""
            ],
            "text/latex": "\\begin{enumerate*}\n\\item 'control'\n\\item 'treatment'\n\\item 'control'\n\\item 'treatment'\n\\end{enumerate*}\n",
            "text/markdown": "1. 'control'\n2. 'treatment'\n3. 'control'\n4. 'treatment'\n\n\n",
            "text/html": [
              "<style>\n",
              ".list-inline {list-style: none; margin:0; padding: 0}\n",
              ".list-inline>li {display: inline-block}\n",
              ".list-inline>li:not(:last-child)::after {content: \"\\00b7\"; padding: 0 .5ex}\n",
              "</style>\n",
              "<ol class=list-inline><li>'control'</li><li>'treatment'</li><li>'control'</li><li>'treatment'</li></ol>\n"
            ]
          },
          "metadata": {
            "tags": []
          }
        }
      ]
    },
    {
      "cell_type": "code",
      "metadata": {
        "colab": {
          "base_uri": "https://localhost:8080/"
        },
        "id": "6RsAwhDSoZQl",
        "outputId": "9fd77d0d-56d5-4514-ebfe-98a22113c8bc"
      },
      "source": [
        "grp = factor(grp)\n",
        "print(grp)"
      ],
      "execution_count": null,
      "outputs": [
        {
          "output_type": "stream",
          "text": [
            "[1] control   treatment control   treatment\n",
            "Levels: control treatment\n"
          ],
          "name": "stdout"
        }
      ]
    },
    {
      "cell_type": "code",
      "metadata": {
        "colab": {
          "base_uri": "https://localhost:8080/"
        },
        "id": "0MXLwiEk0bsh",
        "outputId": "e92676de-087b-421e-d058-1fa69b3a851a"
      },
      "source": [
        "Vect = c(\"m\",\"m\",\"h\",\"m\",\"h\")\n",
        "Vect = factor(Vect)\n",
        "print(Vect)"
      ],
      "execution_count": null,
      "outputs": [
        {
          "output_type": "stream",
          "text": [
            "[1] m m h m h\n",
            "Levels: h m\n"
          ],
          "name": "stdout"
        }
      ]
    },
    {
      "cell_type": "code",
      "metadata": {
        "colab": {
          "base_uri": "https://localhost:8080/",
          "height": 34
        },
        "id": "E5nB_AKN0-O2",
        "outputId": "c9488e31-d2ab-42e8-dfc6-70a13ea60daf"
      },
      "source": [
        "levels(Vect)"
      ],
      "execution_count": null,
      "outputs": [
        {
          "output_type": "display_data",
          "data": {
            "text/plain": [
              "[1] \"h\" \"m\""
            ],
            "text/latex": "\\begin{enumerate*}\n\\item 'h'\n\\item 'm'\n\\end{enumerate*}\n",
            "text/markdown": "1. 'h'\n2. 'm'\n\n\n",
            "text/html": [
              "<style>\n",
              ".list-inline {list-style: none; margin:0; padding: 0}\n",
              ".list-inline>li {display: inline-block}\n",
              ".list-inline>li:not(:last-child)::after {content: \"\\00b7\"; padding: 0 .5ex}\n",
              "</style>\n",
              "<ol class=list-inline><li>'h'</li><li>'m'</li></ol>\n"
            ]
          },
          "metadata": {
            "tags": []
          }
        }
      ]
    },
    {
      "cell_type": "code",
      "metadata": {
        "colab": {
          "base_uri": "https://localhost:8080/",
          "height": 34
        },
        "id": "NACqvG081Fmc",
        "outputId": "4cd3c843-a460-4296-92e3-cdbfdff33777"
      },
      "source": [
        "class(Vect)"
      ],
      "execution_count": null,
      "outputs": [
        {
          "output_type": "display_data",
          "data": {
            "text/plain": [
              "[1] \"factor\""
            ],
            "text/latex": "'factor'",
            "text/markdown": "'factor'",
            "text/html": [
              "'factor'"
            ]
          },
          "metadata": {
            "tags": []
          }
        }
      ]
    },
    {
      "cell_type": "code",
      "metadata": {
        "colab": {
          "base_uri": "https://localhost:8080/",
          "height": 34
        },
        "id": "sJRqQCg_1Sbh",
        "outputId": "7fdc877f-6d5c-4920-860b-6c779078a03e"
      },
      "source": [
        "x = c(1,3,4)\n",
        "levels(x)"
      ],
      "execution_count": null,
      "outputs": [
        {
          "output_type": "display_data",
          "data": {
            "text/plain": [
              "NULL"
            ]
          },
          "metadata": {
            "tags": []
          }
        }
      ]
    },
    {
      "cell_type": "code",
      "metadata": {
        "colab": {
          "base_uri": "https://localhost:8080/",
          "height": 34
        },
        "id": "OugQoWQk1oFR",
        "outputId": "630a56ce-cade-4d66-ee65-b5d6e55f24f2"
      },
      "source": [
        "paste(\"Es\",Vect)"
      ],
      "execution_count": null,
      "outputs": [
        {
          "output_type": "display_data",
          "data": {
            "text/plain": [
              "[1] \"Es m\" \"Es m\" \"Es h\" \"Es m\" \"Es h\""
            ],
            "text/latex": "\\begin{enumerate*}\n\\item 'Es m'\n\\item 'Es m'\n\\item 'Es h'\n\\item 'Es m'\n\\item 'Es h'\n\\end{enumerate*}\n",
            "text/markdown": "1. 'Es m'\n2. 'Es m'\n3. 'Es h'\n4. 'Es m'\n5. 'Es h'\n\n\n",
            "text/html": [
              "<style>\n",
              ".list-inline {list-style: none; margin:0; padding: 0}\n",
              ".list-inline>li {display: inline-block}\n",
              ".list-inline>li:not(:last-child)::after {content: \"\\00b7\"; padding: 0 .5ex}\n",
              "</style>\n",
              "<ol class=list-inline><li>'Es m'</li><li>'Es m'</li><li>'Es h'</li><li>'Es m'</li><li>'Es h'</li></ol>\n"
            ]
          },
          "metadata": {
            "tags": []
          }
        }
      ]
    },
    {
      "cell_type": "markdown",
      "metadata": {
        "id": "6-I8vVdcokjk"
      },
      "source": [
        "Los factores son una forma más eficiente de guardar información tipo caracter cuando hay repeticiones entre los elementos de un vector. Esto es porque los niveles de un factor son internamente codificados como enteros. Para ver qué códigos usa nuestro factor, podemos escribir"
      ]
    },
    {
      "cell_type": "code",
      "metadata": {
        "colab": {
          "base_uri": "https://localhost:8080/",
          "height": 34
        },
        "id": "jU_i0riMo8nm",
        "outputId": "c32ad2d4-111a-40f6-92f3-a2dee3490ca1"
      },
      "source": [
        "as.integer(grp)"
      ],
      "execution_count": null,
      "outputs": [
        {
          "output_type": "display_data",
          "data": {
            "text/plain": [
              "[1] 1 2 1 2"
            ],
            "text/latex": "\\begin{enumerate*}\n\\item 1\n\\item 2\n\\item 1\n\\item 2\n\\end{enumerate*}\n",
            "text/markdown": "1. 1\n2. 2\n3. 1\n4. 2\n\n\n",
            "text/html": [
              "<style>\n",
              ".list-inline {list-style: none; margin:0; padding: 0}\n",
              ".list-inline>li {display: inline-block}\n",
              ".list-inline>li:not(:last-child)::after {content: \"\\00b7\"; padding: 0 .5ex}\n",
              "</style>\n",
              "<ol class=list-inline><li>1</li><li>2</li><li>1</li><li>2</li></ol>\n"
            ]
          },
          "metadata": {
            "tags": []
          }
        }
      ]
    },
    {
      "cell_type": "markdown",
      "metadata": {
        "id": "L_RY2hN2pLCH"
      },
      "source": [
        "las etiquetas de los niveles solo se almacenan una vez cada una, en lugar de repetirse. Los códigos son índices en el vector de niveles\n"
      ]
    },
    {
      "cell_type": "code",
      "metadata": {
        "colab": {
          "base_uri": "https://localhost:8080/",
          "height": 68
        },
        "id": "ShsT6lidpJqE",
        "outputId": "0d9e8910-9a5d-48c8-e277-355a7d6da8c8"
      },
      "source": [
        "levels(grp)\n",
        "print(grp)"
      ],
      "execution_count": null,
      "outputs": [
        {
          "output_type": "display_data",
          "data": {
            "text/plain": [
              "[1] \"control\"   \"treatment\""
            ],
            "text/latex": "\\begin{enumerate*}\n\\item 'control'\n\\item 'treatment'\n\\end{enumerate*}\n",
            "text/markdown": "1. 'control'\n2. 'treatment'\n\n\n",
            "text/html": [
              "<style>\n",
              ".list-inline {list-style: none; margin:0; padding: 0}\n",
              ".list-inline>li {display: inline-block}\n",
              ".list-inline>li:not(:last-child)::after {content: \"\\00b7\"; padding: 0 .5ex}\n",
              "</style>\n",
              "<ol class=list-inline><li>'control'</li><li>'treatment'</li></ol>\n"
            ]
          },
          "metadata": {
            "tags": []
          }
        },
        {
          "output_type": "stream",
          "text": [
            "[1] control   treatment control   treatment\n",
            "Levels: control treatment\n"
          ],
          "name": "stdout"
        }
      ]
    },
    {
      "cell_type": "markdown",
      "metadata": {
        "id": "JjMugLw7sdw2"
      },
      "source": [
        "## Mas sobre la extracción de elementos de vectores\n",
        "\n",
        "Al igual que vectores numéricos, los corchetes cuadrados [] son usados para ubicar el índice del factor y los elementos caracteres del vector. Por ejemplo, el factor *grp* tiene cuatro elementos, así que podemos imprimir el tercer elemento escribiendo:"
      ]
    },
    {
      "cell_type": "code",
      "metadata": {
        "colab": {
          "base_uri": "https://localhost:8080/"
        },
        "id": "dJSqi5H4tCAm",
        "outputId": "5f763c5a-c0c7-4699-e8e8-39f4d9ed4f6e"
      },
      "source": [
        "print(grp[3])"
      ],
      "execution_count": null,
      "outputs": [
        {
          "output_type": "stream",
          "text": [
            "[1] control\n",
            "Levels: control treatment\n"
          ],
          "name": "stdout"
        }
      ]
    },
    {
      "cell_type": "markdown",
      "metadata": {
        "id": "QecFca9ztMjX"
      },
      "source": [
        "Podemos acceder desde el segundo al quinto elemento del vector *mas.colores* como sigue:"
      ]
    },
    {
      "cell_type": "code",
      "metadata": {
        "colab": {
          "base_uri": "https://localhost:8080/",
          "height": 34
        },
        "id": "ybSUGwXOtnXc",
        "outputId": "9fb26037-7daa-41c3-f893-0cf19aeb4ca9"
      },
      "source": [
        "mas.colores[2:5]"
      ],
      "execution_count": null,
      "outputs": [
        {
          "output_type": "display_data",
          "data": {
            "text/plain": [
              "[1] \"yellow\"  \"blue\"    \"green\"   \"magenta\""
            ],
            "text/latex": "\\begin{enumerate*}\n\\item 'yellow'\n\\item 'blue'\n\\item 'green'\n\\item 'magenta'\n\\end{enumerate*}\n",
            "text/markdown": "1. 'yellow'\n2. 'blue'\n3. 'green'\n4. 'magenta'\n\n\n",
            "text/html": [
              "<style>\n",
              ".list-inline {list-style: none; margin:0; padding: 0}\n",
              ".list-inline>li {display: inline-block}\n",
              ".list-inline>li:not(:last-child)::after {content: \"\\00b7\"; padding: 0 .5ex}\n",
              "</style>\n",
              "<ol class=list-inline><li>'yellow'</li><li>'blue'</li><li>'green'</li><li>'magenta'</li></ol>\n"
            ]
          },
          "metadata": {
            "tags": []
          }
        }
      ]
    },
    {
      "cell_type": "markdown",
      "metadata": {
        "id": "tzZBEVeiuJAP"
      },
      "source": [
        "Cuando hayan valores NA, la función \n",
        "\n",
        "\n",
        "```\n",
        "is.na()\n",
        "```\n",
        "debería ser usada para detectarlos. Por ejemplo,\n"
      ]
    },
    {
      "cell_type": "code",
      "metadata": {
        "colab": {
          "base_uri": "https://localhost:8080/",
          "height": 34
        },
        "id": "PkKuAX7_uebm",
        "outputId": "a4ca2b6b-1817-4eac-89a9-56640f3a5ad1"
      },
      "source": [
        "some.events = NULL\n",
        "some.events[seq(2,20,2)] = seq(2,20,2)\n",
        "some.events"
      ],
      "execution_count": null,
      "outputs": [
        {
          "output_type": "display_data",
          "data": {
            "text/plain": [
              " [1] NA  2 NA  4 NA  6 NA  8 NA 10 NA 12 NA 14 NA 16 NA 18 NA 20"
            ],
            "text/latex": "\\begin{enumerate*}\n\\item <NA>\n\\item 2\n\\item <NA>\n\\item 4\n\\item <NA>\n\\item 6\n\\item <NA>\n\\item 8\n\\item <NA>\n\\item 10\n\\item <NA>\n\\item 12\n\\item <NA>\n\\item 14\n\\item <NA>\n\\item 16\n\\item <NA>\n\\item 18\n\\item <NA>\n\\item 20\n\\end{enumerate*}\n",
            "text/markdown": "1. &lt;NA&gt;\n2. 2\n3. &lt;NA&gt;\n4. 4\n5. &lt;NA&gt;\n6. 6\n7. &lt;NA&gt;\n8. 8\n9. &lt;NA&gt;\n10. 10\n11. &lt;NA&gt;\n12. 12\n13. &lt;NA&gt;\n14. 14\n15. &lt;NA&gt;\n16. 16\n17. &lt;NA&gt;\n18. 18\n19. &lt;NA&gt;\n20. 20\n\n\n",
            "text/html": [
              "<style>\n",
              ".list-inline {list-style: none; margin:0; padding: 0}\n",
              ".list-inline>li {display: inline-block}\n",
              ".list-inline>li:not(:last-child)::after {content: \"\\00b7\"; padding: 0 .5ex}\n",
              "</style>\n",
              "<ol class=list-inline><li>&lt;NA&gt;</li><li>2</li><li>&lt;NA&gt;</li><li>4</li><li>&lt;NA&gt;</li><li>6</li><li>&lt;NA&gt;</li><li>8</li><li>&lt;NA&gt;</li><li>10</li><li>&lt;NA&gt;</li><li>12</li><li>&lt;NA&gt;</li><li>14</li><li>&lt;NA&gt;</li><li>16</li><li>&lt;NA&gt;</li><li>18</li><li>&lt;NA&gt;</li><li>20</li></ol>\n"
            ]
          },
          "metadata": {
            "tags": []
          }
        }
      ]
    },
    {
      "cell_type": "code",
      "metadata": {
        "colab": {
          "base_uri": "https://localhost:8080/",
          "height": 34
        },
        "id": "SIMjWds5uzEE",
        "outputId": "21f2e816-f882-4e46-a9ec-0855cdc9231f"
      },
      "source": [
        "is.na(some.events)"
      ],
      "execution_count": null,
      "outputs": [
        {
          "output_type": "display_data",
          "data": {
            "text/plain": [
              " [1]  TRUE FALSE  TRUE FALSE  TRUE FALSE  TRUE FALSE  TRUE FALSE  TRUE FALSE\n",
              "[13]  TRUE FALSE  TRUE FALSE  TRUE FALSE  TRUE FALSE"
            ],
            "text/latex": "\\begin{enumerate*}\n\\item TRUE\n\\item FALSE\n\\item TRUE\n\\item FALSE\n\\item TRUE\n\\item FALSE\n\\item TRUE\n\\item FALSE\n\\item TRUE\n\\item FALSE\n\\item TRUE\n\\item FALSE\n\\item TRUE\n\\item FALSE\n\\item TRUE\n\\item FALSE\n\\item TRUE\n\\item FALSE\n\\item TRUE\n\\item FALSE\n\\end{enumerate*}\n",
            "text/markdown": "1. TRUE\n2. FALSE\n3. TRUE\n4. FALSE\n5. TRUE\n6. FALSE\n7. TRUE\n8. FALSE\n9. TRUE\n10. FALSE\n11. TRUE\n12. FALSE\n13. TRUE\n14. FALSE\n15. TRUE\n16. FALSE\n17. TRUE\n18. FALSE\n19. TRUE\n20. FALSE\n\n\n",
            "text/html": [
              "<style>\n",
              ".list-inline {list-style: none; margin:0; padding: 0}\n",
              ".list-inline>li {display: inline-block}\n",
              ".list-inline>li:not(:last-child)::after {content: \"\\00b7\"; padding: 0 .5ex}\n",
              "</style>\n",
              "<ol class=list-inline><li>TRUE</li><li>FALSE</li><li>TRUE</li><li>FALSE</li><li>TRUE</li><li>FALSE</li><li>TRUE</li><li>FALSE</li><li>TRUE</li><li>FALSE</li><li>TRUE</li><li>FALSE</li><li>TRUE</li><li>FALSE</li><li>TRUE</li><li>FALSE</li><li>TRUE</li><li>FALSE</li><li>TRUE</li><li>FALSE</li></ol>\n"
            ]
          },
          "metadata": {
            "tags": []
          }
        }
      ]
    },
    {
      "cell_type": "code",
      "metadata": {
        "colab": {
          "base_uri": "https://localhost:8080/",
          "height": 34
        },
        "id": "2fqfX7T1u-7_",
        "outputId": "c02fbffb-3e94-445e-a84a-5398f9371fca"
      },
      "source": [
        "!is.na(some.events)"
      ],
      "execution_count": null,
      "outputs": [
        {
          "output_type": "display_data",
          "data": {
            "text/plain": [
              " [1] FALSE  TRUE FALSE  TRUE FALSE  TRUE FALSE  TRUE FALSE  TRUE FALSE  TRUE\n",
              "[13] FALSE  TRUE FALSE  TRUE FALSE  TRUE FALSE  TRUE"
            ],
            "text/latex": "\\begin{enumerate*}\n\\item FALSE\n\\item TRUE\n\\item FALSE\n\\item TRUE\n\\item FALSE\n\\item TRUE\n\\item FALSE\n\\item TRUE\n\\item FALSE\n\\item TRUE\n\\item FALSE\n\\item TRUE\n\\item FALSE\n\\item TRUE\n\\item FALSE\n\\item TRUE\n\\item FALSE\n\\item TRUE\n\\item FALSE\n\\item TRUE\n\\end{enumerate*}\n",
            "text/markdown": "1. FALSE\n2. TRUE\n3. FALSE\n4. TRUE\n5. FALSE\n6. TRUE\n7. FALSE\n8. TRUE\n9. FALSE\n10. TRUE\n11. FALSE\n12. TRUE\n13. FALSE\n14. TRUE\n15. FALSE\n16. TRUE\n17. FALSE\n18. TRUE\n19. FALSE\n20. TRUE\n\n\n",
            "text/html": [
              "<style>\n",
              ".list-inline {list-style: none; margin:0; padding: 0}\n",
              ".list-inline>li {display: inline-block}\n",
              ".list-inline>li:not(:last-child)::after {content: \"\\00b7\"; padding: 0 .5ex}\n",
              "</style>\n",
              "<ol class=list-inline><li>FALSE</li><li>TRUE</li><li>FALSE</li><li>TRUE</li><li>FALSE</li><li>TRUE</li><li>FALSE</li><li>TRUE</li><li>FALSE</li><li>TRUE</li><li>FALSE</li><li>TRUE</li><li>FALSE</li><li>TRUE</li><li>FALSE</li><li>TRUE</li><li>FALSE</li><li>TRUE</li><li>FALSE</li><li>TRUE</li></ol>\n"
            ]
          },
          "metadata": {
            "tags": []
          }
        }
      ]
    },
    {
      "cell_type": "markdown",
      "metadata": {
        "id": "HzjXl4kfvGVR"
      },
      "source": [
        "Podemos iincluso mostrar los números distintos de NA:"
      ]
    },
    {
      "cell_type": "code",
      "metadata": {
        "colab": {
          "base_uri": "https://localhost:8080/",
          "height": 34
        },
        "id": "oGqW-00yvMLM",
        "outputId": "3ce79fc3-a960-48f7-bcec-2f4e1422d64e"
      },
      "source": [
        "some.events[!is.na(some.events)]"
      ],
      "execution_count": null,
      "outputs": [
        {
          "output_type": "display_data",
          "data": {
            "text/plain": [
              " [1]  2  4  6  8 10 12 14 16 18 20"
            ],
            "text/latex": "\\begin{enumerate*}\n\\item 2\n\\item 4\n\\item 6\n\\item 8\n\\item 10\n\\item 12\n\\item 14\n\\item 16\n\\item 18\n\\item 20\n\\end{enumerate*}\n",
            "text/markdown": "1. 2\n2. 4\n3. 6\n4. 8\n5. 10\n6. 12\n7. 14\n8. 16\n9. 18\n10. 20\n\n\n",
            "text/html": [
              "<style>\n",
              ".list-inline {list-style: none; margin:0; padding: 0}\n",
              ".list-inline>li {display: inline-block}\n",
              ".list-inline>li:not(:last-child)::after {content: \"\\00b7\"; padding: 0 .5ex}\n",
              "</style>\n",
              "<ol class=list-inline><li>2</li><li>4</li><li>6</li><li>8</li><li>10</li><li>12</li><li>14</li><li>16</li><li>18</li><li>20</li></ol>\n"
            ]
          },
          "metadata": {
            "tags": []
          }
        }
      ]
    },
    {
      "cell_type": "markdown",
      "metadata": {
        "id": "uJDX4yu9vay9"
      },
      "source": [
        "# 1.2 Matrices y Arreglos\n",
        "\n",
        "Para ordenar los valores en una matriz, usamos la función\n",
        "\n",
        "\n",
        "```\n",
        "matrix()\n",
        "```\n",
        "\n"
      ]
    },
    {
      "cell_type": "code",
      "metadata": {
        "colab": {
          "base_uri": "https://localhost:8080/"
        },
        "id": "lVJ8rElEv1RZ",
        "outputId": "145fa833-aef6-4609-ac9d-066203c16090"
      },
      "source": [
        "m1 = matrix(1:6,nrow = 2, ncol=3,byrow = FALSE)\n",
        "print(m1)"
      ],
      "execution_count": null,
      "outputs": [
        {
          "output_type": "stream",
          "text": [
            "     [,1] [,2] [,3]\n",
            "[1,]    1    3    5\n",
            "[2,]    2    4    6\n"
          ],
          "name": "stdout"
        }
      ]
    },
    {
      "cell_type": "code",
      "metadata": {
        "colab": {
          "base_uri": "https://localhost:8080/"
        },
        "id": "InMPChR-7E2_",
        "outputId": "901f6271-a4d6-4667-9162-221ad4999139"
      },
      "source": [
        "m2 = matrix(1:6,nrow = 2, ncol=3, byrow = TRUE)\n",
        "print(m2)"
      ],
      "execution_count": null,
      "outputs": [
        {
          "output_type": "stream",
          "text": [
            "     [,1] [,2] [,3]\n",
            "[1,]    1    2    3\n",
            "[2,]    4    5    6\n"
          ],
          "name": "stdout"
        }
      ]
    },
    {
      "cell_type": "code",
      "metadata": {
        "colab": {
          "base_uri": "https://localhost:8080/"
        },
        "id": "7E_c47H27z7Q",
        "outputId": "54d523b0-9274-47a0-ef9a-c0084dc293be"
      },
      "source": [
        "x = c(1/3,-4,5/2,2,5,9,-sqrt(2),-1)\n",
        "m1 = matrix(x,nrow=2,ncol=4)\n",
        "print(m1)"
      ],
      "execution_count": null,
      "outputs": [
        {
          "output_type": "stream",
          "text": [
            "           [,1] [,2] [,3]      [,4]\n",
            "[1,]  0.3333333  2.5    5 -1.414214\n",
            "[2,] -4.0000000  2.0    9 -1.000000\n"
          ],
          "name": "stdout"
        }
      ]
    },
    {
      "cell_type": "markdown",
      "metadata": {
        "id": "nshSaifZwHE3"
      },
      "source": [
        "Podemos acceder a los elementos usando dos índices. Por ejemplo, el valor en la primera fila, segunda columna es "
      ]
    },
    {
      "cell_type": "code",
      "metadata": {
        "colab": {
          "base_uri": "https://localhost:8080/",
          "height": 34
        },
        "id": "S5v9VU19wRGJ",
        "outputId": "6afb2c87-d28a-4e0a-f8a3-8e10c1e029e3"
      },
      "source": [
        "m[1,2]"
      ],
      "execution_count": null,
      "outputs": [
        {
          "output_type": "display_data",
          "data": {
            "text/plain": [
              "[1] 2"
            ],
            "text/latex": "2",
            "text/markdown": "2",
            "text/html": [
              "2"
            ]
          },
          "metadata": {
            "tags": []
          }
        }
      ]
    },
    {
      "cell_type": "markdown",
      "metadata": {
        "id": "4zSG06JFwTsa"
      },
      "source": [
        "Algo que puede ser confuso en R, es que R también permite que una matriz sea indizada como un vector, usando solo un valor:"
      ]
    },
    {
      "cell_type": "code",
      "metadata": {
        "colab": {
          "base_uri": "https://localhost:8080/",
          "height": 34
        },
        "id": "IsO-Eo40wslr",
        "outputId": "85fb595d-6275-45b1-ad66-676c2e8a885f"
      },
      "source": [
        "m[5]"
      ],
      "execution_count": null,
      "outputs": [
        {
          "output_type": "display_data",
          "data": {
            "text/plain": [
              "[1] 3"
            ],
            "text/latex": "3",
            "text/markdown": "3",
            "text/html": [
              "3"
            ]
          },
          "metadata": {
            "tags": []
          }
        }
      ]
    },
    {
      "cell_type": "markdown",
      "metadata": {
        "id": "_1fV_DHtw04B"
      },
      "source": [
        "Aquí los elementos son seleccionados en el orden en el cual ellos son guardados  internamente: hacia abajo la primera columna, luego hacia abajo en la segunda, y así sucesivamente. Este orden es conocido como **orden de almacenamiento principal de la columna**.\n",
        "\n",
        "Columnas o filas completas pueden ser seleccionadas dejando el correspondiente índice en blanco:"
      ]
    },
    {
      "cell_type": "code",
      "metadata": {
        "colab": {
          "base_uri": "https://localhost:8080/",
          "height": 51
        },
        "id": "L6R7oNWZxx62",
        "outputId": "d16070f6-214f-45cb-f413-4061d700c773"
      },
      "source": [
        "m[1,]\n",
        "m[,1]"
      ],
      "execution_count": null,
      "outputs": [
        {
          "output_type": "display_data",
          "data": {
            "text/plain": [
              "[1] 1 2 3"
            ],
            "text/latex": "\\begin{enumerate*}\n\\item 1\n\\item 2\n\\item 3\n\\end{enumerate*}\n",
            "text/markdown": "1. 1\n2. 2\n3. 3\n\n\n",
            "text/html": [
              "<style>\n",
              ".list-inline {list-style: none; margin:0; padding: 0}\n",
              ".list-inline>li {display: inline-block}\n",
              ".list-inline>li:not(:last-child)::after {content: \"\\00b7\"; padding: 0 .5ex}\n",
              "</style>\n",
              "<ol class=list-inline><li>1</li><li>2</li><li>3</li></ol>\n"
            ]
          },
          "metadata": {
            "tags": []
          }
        },
        {
          "output_type": "display_data",
          "data": {
            "text/plain": [
              "[1] 1 4"
            ],
            "text/latex": "\\begin{enumerate*}\n\\item 1\n\\item 4\n\\end{enumerate*}\n",
            "text/markdown": "1. 1\n2. 4\n\n\n",
            "text/html": [
              "<style>\n",
              ".list-inline {list-style: none; margin:0; padding: 0}\n",
              ".list-inline>li {display: inline-block}\n",
              ".list-inline>li:not(:last-child)::after {content: \"\\00b7\"; padding: 0 .5ex}\n",
              "</style>\n",
              "<ol class=list-inline><li>1</li><li>4</li></ol>\n"
            ]
          },
          "metadata": {
            "tags": []
          }
        }
      ]
    },
    {
      "cell_type": "markdown",
      "metadata": {
        "id": "STOarYuIx4O2"
      },
      "source": [
        "Una forma más general de guardar información es en **arreglos**. Los arreglos tienen múltiples índices, y son creados usando la función array:"
      ]
    },
    {
      "cell_type": "code",
      "metadata": {
        "colab": {
          "base_uri": "https://localhost:8080/"
        },
        "id": "YvzJcM1LyEv7",
        "outputId": "718a4e8d-643d-4326-88db-751a2555dacc"
      },
      "source": [
        "a = array(1:24,c(3,4,2))\n",
        "print(a)"
      ],
      "execution_count": null,
      "outputs": [
        {
          "output_type": "stream",
          "text": [
            ", , 1\n",
            "\n",
            "     [,1] [,2] [,3] [,4]\n",
            "[1,]    1    4    7   10\n",
            "[2,]    2    5    8   11\n",
            "[3,]    3    6    9   12\n",
            "\n",
            ", , 2\n",
            "\n",
            "     [,1] [,2] [,3] [,4]\n",
            "[1,]   13   16   19   22\n",
            "[2,]   14   17   20   23\n",
            "[3,]   15   18   21   24\n",
            "\n"
          ],
          "name": "stdout"
        }
      ]
    },
    {
      "cell_type": "markdown",
      "metadata": {
        "id": "qkrdAp8iy4C9"
      },
      "source": [
        "Nótese que las dimensiones se especificaron en el vector *c(3,4,2)*."
      ]
    },
    {
      "cell_type": "code",
      "metadata": {
        "colab": {
          "base_uri": "https://localhost:8080/"
        },
        "id": "Vb-giS00AnIB",
        "outputId": "1d372ff0-2d68-4588-a065-1596292a3057"
      },
      "source": [
        "m3 = matrix(1:9,nrow=3,ncol=3)\n",
        "print(m3)"
      ],
      "execution_count": null,
      "outputs": [
        {
          "output_type": "stream",
          "text": [
            "     [,1] [,2] [,3]\n",
            "[1,]    1    4    7\n",
            "[2,]    2    5    8\n",
            "[3,]    3    6    9\n"
          ],
          "name": "stdout"
        }
      ]
    },
    {
      "cell_type": "code",
      "metadata": {
        "colab": {
          "base_uri": "https://localhost:8080/"
        },
        "id": "mwE7pBELAFQh",
        "outputId": "2bb6eda3-0e02-4ae2-f76f-5486788e3fa1"
      },
      "source": [
        "print(m1+m2)"
      ],
      "execution_count": null,
      "outputs": [
        {
          "output_type": "stream",
          "text": [
            "     [,1] [,2] [,3]\n",
            "[1,]    2    5    8\n",
            "[2,]    6    9   12\n"
          ],
          "name": "stdout"
        }
      ]
    },
    {
      "cell_type": "code",
      "metadata": {
        "colab": {
          "base_uri": "https://localhost:8080/",
          "height": 129
        },
        "id": "T6GIlBU1Ay2X",
        "outputId": "aaf836e4-d9ec-4cb0-bfe8-c0cacd9b09aa"
      },
      "source": [
        "print(m1+m3)"
      ],
      "execution_count": null,
      "outputs": [
        {
          "output_type": "error",
          "ename": "ERROR",
          "evalue": "ignored",
          "traceback": [
            "Error in m1 + m3: non-conformable arrays\nTraceback:\n",
            "1. print(m1 + m3)"
          ]
        }
      ]
    },
    {
      "cell_type": "code",
      "metadata": {
        "colab": {
          "base_uri": "https://localhost:8080/"
        },
        "id": "t7KwgkaWBATY",
        "outputId": "10bb4eed-0306-4990-bac7-ba894ec6dace"
      },
      "source": [
        "#print(3*m1)\n",
        "print(m1*m1)  # no es la multiplicación típica de matrices del álgebra lineal"
      ],
      "execution_count": null,
      "outputs": [
        {
          "output_type": "stream",
          "text": [
            "     [,1] [,2] [,3]\n",
            "[1,]    1    9   25\n",
            "[2,]    4   16   36\n"
          ],
          "name": "stdout"
        }
      ]
    },
    {
      "cell_type": "code",
      "metadata": {
        "colab": {
          "base_uri": "https://localhost:8080/"
        },
        "id": "B2aYj87BB-DW",
        "outputId": "953c76fc-baea-4546-fc06-14a087cf813d"
      },
      "source": [
        "print(m1)"
      ],
      "execution_count": null,
      "outputs": [
        {
          "output_type": "stream",
          "text": [
            "     [,1] [,2] [,3]\n",
            "[1,]    1    3    5\n",
            "[2,]    2    4    6\n"
          ],
          "name": "stdout"
        }
      ]
    },
    {
      "cell_type": "code",
      "metadata": {
        "colab": {
          "base_uri": "https://localhost:8080/",
          "height": 129
        },
        "id": "E94YGi0cBnFw",
        "outputId": "c9eded6a-8fe2-4f5b-c715-ee66e3ad5a6d"
      },
      "source": [
        "print(m1^(-1)) # 1/m1 no es la inversa, m1 con componentes los inversos multiplicativos del mismo m1"
      ],
      "execution_count": null,
      "outputs": [
        {
          "output_type": "error",
          "ename": "ERROR",
          "evalue": "ignored",
          "traceback": [
            "Error in print(m1^(-1)): object 'm1' not found\nTraceback:\n",
            "1. print(m1^(-1))"
          ]
        }
      ]
    },
    {
      "cell_type": "code",
      "metadata": {
        "colab": {
          "base_uri": "https://localhost:8080/"
        },
        "id": "k9VQ5J9XeesD",
        "outputId": "857c5667-1faa-47b0-e33a-d1d582f394f4"
      },
      "source": [
        "print(m1)\n",
        "print(m2)"
      ],
      "execution_count": null,
      "outputs": [
        {
          "output_type": "stream",
          "text": [
            "     [,1] [,2] [,3]\n",
            "[1,]    1    3    5\n",
            "[2,]    2    4    6\n",
            "     [,1] [,2] [,3]\n",
            "[1,]    1    2    3\n",
            "[2,]    4    5    6\n"
          ],
          "name": "stdout"
        }
      ]
    },
    {
      "cell_type": "code",
      "metadata": {
        "colab": {
          "base_uri": "https://localhost:8080/"
        },
        "id": "WWzZkEpGeIm3",
        "outputId": "4451ae71-7299-4a08-d338-3879c2fb9d6c"
      },
      "source": [
        "print(m1/m2)"
      ],
      "execution_count": null,
      "outputs": [
        {
          "output_type": "stream",
          "text": [
            "     [,1] [,2]     [,3]\n",
            "[1,]  1.0  1.5 1.666667\n",
            "[2,]  0.5  0.8 1.000000\n"
          ],
          "name": "stdout"
        }
      ]
    },
    {
      "cell_type": "markdown",
      "metadata": {
        "id": "2o8HPzzwxt4W"
      },
      "source": [
        "## 1.2.1 Multiplicación Matricial, Inversión y Transposición\n",
        "\n",
        "Si $A_{m\\times n}$ y $B_{n\\times p}$ son matrices, entonces el **producto matricial** $AB$ es la matriz $C$ cuyo término $ij$ ésimo es dado por\n",
        "$$c_{ij}=\\sum_{k=1}^na_{ik}b_{kj}\\hspace{1cm}i=1,...,m;\\hspace{0.3cm}j=1,...,p.$$\n",
        "En R, esta forma de multiplicación matricial puede ser desarrollada usando el operador \n",
        "\n",
        "```\n",
        "%*%\n",
        "```\n",
        "Por ejemplo:\n"
      ]
    },
    {
      "cell_type": "code",
      "metadata": {
        "colab": {
          "base_uri": "https://localhost:8080/"
        },
        "id": "VcIKhlZg0KC1",
        "outputId": "a76be0e4-6c8e-48fe-9c30-a322416742e8"
      },
      "source": [
        "A = matrix(c(1,-1,2,4,4,3),nrow=2)\n",
        "B = matrix(c(2,1,-5),nrow=3)\n",
        "print(A)\n",
        "print(B)\n",
        "print(A%*%B)"
      ],
      "execution_count": null,
      "outputs": [
        {
          "output_type": "stream",
          "text": [
            "     [,1] [,2] [,3]\n",
            "[1,]    1    2    4\n",
            "[2,]   -1    4    3\n",
            "     [,1]\n",
            "[1,]    2\n",
            "[2,]    1\n",
            "[3,]   -5\n",
            "     [,1]\n",
            "[1,]  -16\n",
            "[2,]  -13\n"
          ],
          "name": "stdout"
        }
      ]
    },
    {
      "cell_type": "code",
      "metadata": {
        "colab": {
          "base_uri": "https://localhost:8080/",
          "height": 129
        },
        "id": "CgcchCbU1zxg",
        "outputId": "2f82683d-41d1-4a13-c273-375760ceeb5e"
      },
      "source": [
        "print(B%*%A)"
      ],
      "execution_count": null,
      "outputs": [
        {
          "output_type": "error",
          "ename": "ERROR",
          "evalue": "ignored",
          "traceback": [
            "Error in B %*% A: non-conformable arguments\nTraceback:\n",
            "1. print(B %*% A)"
          ]
        }
      ]
    },
    {
      "cell_type": "code",
      "metadata": {
        "colab": {
          "base_uri": "https://localhost:8080/",
          "height": 95
        },
        "id": "Vy5C42ko189s",
        "outputId": "7d2daaad-1b3f-4550-9131-8f26d7598022"
      },
      "source": [
        "A*B"
      ],
      "execution_count": null,
      "outputs": [
        {
          "output_type": "error",
          "ename": "ERROR",
          "evalue": "ignored",
          "traceback": [
            "Error in A * B: non-conformable arrays\nTraceback:\n"
          ]
        }
      ]
    },
    {
      "cell_type": "markdown",
      "metadata": {
        "id": "sD-4aST58Q48"
      },
      "source": [
        "La **inversa** de una matriz cuadrada $A_{n\\times n}$, denotada por $A^{-1}$ es la solución a la ecuación matricial $AA^{-1}=I_{n\\times n}$, donde $I_{n\\times n}$ es la matriz identidad.\n",
        "\n",
        "En R, las matrices son invertidas y los sistemas de ecuaciones lineales se resuelven usando la función \n",
        "\n",
        "```\n",
        "solve()\n",
        "```\n",
        "Esta función se puede usar para encontrar la inversa de $A$ como\n",
        "```\n",
        "A^(-1) = solve(A)\n",
        "```\n",
        "y también soluciones sistemas lineales $A\\textbf{x}=\\textbf{b}$\n",
        "\n",
        "```\n",
        "x = A^(-1)b = solve(A,b)\n",
        "```\n",
        "\n",
        "\n",
        "\n",
        "\n",
        "\n",
        "Ejemplo\n",
        "\n"
      ]
    },
    {
      "cell_type": "code",
      "metadata": {
        "colab": {
          "base_uri": "https://localhost:8080/"
        },
        "id": "m4G2siSC2D4q",
        "outputId": "160fa1ef-acb2-445d-e87c-6151e0735629"
      },
      "source": [
        "D = matrix(c(-1,4,3,2),nrow=2)\n",
        "D_inv = solve(D) \n",
        "print(D)\n",
        "print(D_inv)"
      ],
      "execution_count": null,
      "outputs": [
        {
          "output_type": "stream",
          "text": [
            "     [,1] [,2]\n",
            "[1,]   -1    3\n",
            "[2,]    4    2\n",
            "           [,1]       [,2]\n",
            "[1,] -0.1428571 0.21428571\n",
            "[2,]  0.2857143 0.07142857\n"
          ],
          "name": "stdout"
        }
      ]
    },
    {
      "cell_type": "code",
      "metadata": {
        "colab": {
          "base_uri": "https://localhost:8080/"
        },
        "id": "iSLiKsxm-CrE",
        "outputId": "af9b7a6f-7900-447d-9b78-dd2a9a8a61c7"
      },
      "source": [
        "print(round(D%*%D_inv))"
      ],
      "execution_count": null,
      "outputs": [
        {
          "output_type": "stream",
          "text": [
            "     [,1] [,2]\n",
            "[1,]    1    0\n",
            "[2,]    0    1\n"
          ],
          "name": "stdout"
        }
      ]
    },
    {
      "cell_type": "code",
      "metadata": {
        "colab": {
          "base_uri": "https://localhost:8080/",
          "height": 34
        },
        "id": "rAWCK6DyiNxI",
        "outputId": "7c68a17b-60dc-4bb2-92a3-f9c3f93ef5d9"
      },
      "source": [
        "round(3.2475,2)"
      ],
      "execution_count": null,
      "outputs": [
        {
          "output_type": "display_data",
          "data": {
            "text/plain": [
              "[1] 3.25"
            ],
            "text/latex": "3.25",
            "text/markdown": "3.25",
            "text/html": [
              "3.25"
            ]
          },
          "metadata": {
            "tags": []
          }
        }
      ]
    },
    {
      "cell_type": "markdown",
      "metadata": {
        "id": "6oknuv5B-uAu"
      },
      "source": [
        "En R, se transpone una matriz usando la función \n",
        "\n",
        "\n",
        "```\n",
        "t()\n",
        "```\n",
        "Ejemplo\n"
      ]
    },
    {
      "cell_type": "code",
      "metadata": {
        "colab": {
          "base_uri": "https://localhost:8080/"
        },
        "id": "TeVxKPR9-tak",
        "outputId": "f0484a78-9afa-441c-afcf-f77b6d9f7e8f"
      },
      "source": [
        "print(A)\n",
        "print(t(A))"
      ],
      "execution_count": null,
      "outputs": [
        {
          "output_type": "stream",
          "text": [
            "     [,1] [,2] [,3]\n",
            "[1,]    1    2    4\n",
            "[2,]   -1    4    3\n",
            "     [,1] [,2]\n",
            "[1,]    1   -1\n",
            "[2,]    2    4\n",
            "[3,]    4    3\n"
          ],
          "name": "stdout"
        }
      ]
    },
    {
      "cell_type": "markdown",
      "metadata": {
        "id": "3MOljE-zC-Z2"
      },
      "source": [
        "### Elementos en la diagonal de una matriz "
      ]
    },
    {
      "cell_type": "code",
      "metadata": {
        "colab": {
          "base_uri": "https://localhost:8080/"
        },
        "id": "XiVeabC_-_Zb",
        "outputId": "23aae1fd-cedc-415f-8e55-02731fe099f8"
      },
      "source": [
        "print(diag(D)) # diag() extrae un vector con los elementos de la diagonal principal de la matriz de argumento"
      ],
      "execution_count": null,
      "outputs": [
        {
          "output_type": "stream",
          "text": [
            "[1] -1  2\n"
          ],
          "name": "stdout"
        }
      ]
    },
    {
      "cell_type": "code",
      "metadata": {
        "colab": {
          "base_uri": "https://localhost:8080/"
        },
        "id": "9-uqP64mDHXK",
        "outputId": "002366dc-ab39-46e8-8dac-2c80f034f8df"
      },
      "source": [
        "print(diag(A))"
      ],
      "execution_count": null,
      "outputs": [
        {
          "output_type": "stream",
          "text": [
            "[1] 1 4\n"
          ],
          "name": "stdout"
        }
      ]
    },
    {
      "cell_type": "markdown",
      "metadata": {
        "id": "0Q2VOQvzDCXB"
      },
      "source": [
        "### Determinante de una matriz"
      ]
    },
    {
      "cell_type": "code",
      "metadata": {
        "colab": {
          "base_uri": "https://localhost:8080/",
          "height": 34
        },
        "id": "UsqPEEGFC6a_",
        "outputId": "40c7e0e8-c4c9-4361-89fe-7e004e033cc0"
      },
      "source": [
        "det(D)"
      ],
      "execution_count": null,
      "outputs": [
        {
          "output_type": "display_data",
          "data": {
            "text/plain": [
              "[1] -14"
            ],
            "text/latex": "-14",
            "text/markdown": "-14",
            "text/html": [
              "-14"
            ]
          },
          "metadata": {
            "tags": []
          }
        }
      ]
    },
    {
      "cell_type": "code",
      "metadata": {
        "colab": {
          "base_uri": "https://localhost:8080/",
          "height": 34
        },
        "id": "hTasQDxdjYFR",
        "outputId": "55f4d7db-76bd-4d88-bd60-d6ad401f829d"
      },
      "source": [
        "dim(A)"
      ],
      "execution_count": null,
      "outputs": [
        {
          "output_type": "display_data",
          "data": {
            "text/plain": [
              "[1] 2 3"
            ],
            "text/latex": "\\begin{enumerate*}\n\\item 2\n\\item 3\n\\end{enumerate*}\n",
            "text/markdown": "1. 2\n2. 3\n\n\n",
            "text/html": [
              "<style>\n",
              ".list-inline {list-style: none; margin:0; padding: 0}\n",
              ".list-inline>li {display: inline-block}\n",
              ".list-inline>li:not(:last-child)::after {content: \"\\00b7\"; padding: 0 .5ex}\n",
              "</style>\n",
              "<ol class=list-inline><li>2</li><li>3</li></ol>\n"
            ]
          },
          "metadata": {
            "tags": []
          }
        }
      ]
    },
    {
      "cell_type": "code",
      "metadata": {
        "colab": {
          "base_uri": "https://localhost:8080/"
        },
        "id": "zdpiLp6qjibI",
        "outputId": "a13d8e7a-bc4f-468b-e9a9-c7746ce20559"
      },
      "source": [
        "print(diag(3))"
      ],
      "execution_count": null,
      "outputs": [
        {
          "output_type": "stream",
          "text": [
            "     [,1] [,2] [,3]\n",
            "[1,]    1    0    0\n",
            "[2,]    0    1    0\n",
            "[3,]    0    0    1\n"
          ],
          "name": "stdout"
        }
      ]
    },
    {
      "cell_type": "markdown",
      "metadata": {
        "id": "E4jb4jUg_Kfs"
      },
      "source": [
        "## Ejercicio\n",
        "Resuelva el sistema lineal\n",
        "\n",
        "\\begin{eqnarray*}\n",
        "x+2y+6z &=&-1\\\\\n",
        "2x+3y-7z &=&2\\\\\n",
        "x-y+3z &=& 5\n",
        "\\end{eqnarray*}\n",
        "Imprima la solución como\n",
        "\n",
        "\"La solución es dada por x= \" \"y=\" \"z=\" redondeada  dos cifras decimales."
      ]
    },
    {
      "cell_type": "markdown",
      "metadata": {
        "id": "SCF9ChopFvyz"
      },
      "source": [
        ""
      ]
    },
    {
      "cell_type": "markdown",
      "metadata": {
        "id": "fz4GTZ4QFvDD"
      },
      "source": [
        ""
      ]
    },
    {
      "cell_type": "markdown",
      "metadata": {
        "id": "hgquN93eFsCJ"
      },
      "source": [
        "### Solución"
      ]
    },
    {
      "cell_type": "code",
      "metadata": {
        "colab": {
          "base_uri": "https://localhost:8080/"
        },
        "id": "gi1xDjnMCt4k",
        "outputId": "7ad121d0-6582-4af1-8c4b-fbc3d367d2e0"
      },
      "source": [
        "mat = matrix(c(1,2,1,2,3,-1,6,-7,3),nrow=3,ncol=3) # creo la matriz A del sistema\n",
        "solucion = solve(mat,c(-1,2,5))   # resolvemos el sistema Ax=b\n",
        "print(solucion)"
      ],
      "execution_count": null,
      "outputs": [
        {
          "output_type": "stream",
          "text": [
            "[1]  3.4444444 -1.8888889 -0.1111111\n"
          ],
          "name": "stdout"
        }
      ]
    },
    {
      "cell_type": "code",
      "metadata": {
        "colab": {
          "base_uri": "https://localhost:8080/",
          "height": 34
        },
        "id": "gLTf7ZttD3aj",
        "outputId": "48becb0f-f1c0-4b99-a070-f0daeb3e89ab"
      },
      "source": [
        "paste(\"la solución es dada por x=\",round(solucion[1],2),\"y=\",round(solucion[2],2),\"z=\",round(solucion[3],2))"
      ],
      "execution_count": null,
      "outputs": [
        {
          "output_type": "display_data",
          "data": {
            "text/plain": [
              "[1] \"la solución es dada por x= 3.44 y= -1.89 z= -0.11\""
            ],
            "text/latex": "'la solución es dada por x= 3.44 y= -1.89 z= -0.11'",
            "text/markdown": "'la solución es dada por x= 3.44 y= -1.89 z= -0.11'",
            "text/html": [
              "'la solución es dada por x= 3.44 y= -1.89 z= -0.11'"
            ]
          },
          "metadata": {
            "tags": []
          }
        }
      ]
    },
    {
      "cell_type": "markdown",
      "metadata": {
        "id": "B3St7cXEzJ6C"
      },
      "source": [
        "# 1.3 Data frames\n",
        "\n",
        "La mayoría de bases de datos se encuentra almacenada en R como data frames. Estos son como matrices, pero las columnas tienen sus nombres propios. Las columnas pueden ser de diferentes tipos entre ellas. Usamos la función\n",
        "\n",
        "\n",
        "```\n",
        "data.frame()\n",
        "```\n",
        "para construir data frames desde vectores:\n",
        "\n"
      ]
    },
    {
      "cell_type": "code",
      "metadata": {
        "colab": {
          "base_uri": "https://localhost:8080/"
        },
        "id": "hiba_Abb0cks",
        "outputId": "2da39a7e-b3b4-4727-c942-ab070ae99bd8"
      },
      "source": [
        "colores = c(\"red\",\"yellow\",\"blue\")\n",
        "numeros = c(1,2,3)\n",
        "colores.y.numeros = data.frame(colores,numeros,mas.numeros=c(4,5,6))\n",
        "print(colores.y.numeros)"
      ],
      "execution_count": null,
      "outputs": [
        {
          "output_type": "stream",
          "text": [
            "  colores numeros mas.numeros\n",
            "1     red       1           4\n",
            "2  yellow       2           5\n",
            "3    blue       3           6\n"
          ],
          "name": "stdout"
        }
      ]
    },
    {
      "cell_type": "markdown",
      "metadata": {
        "id": "8gGQe0lDXoBJ"
      },
      "source": [
        "## Data frames y la función *read.table*\n",
        "Las bases de datos consisten frecuentemente de uno o más columnas de información, donde cada columna representa mediciones de una variable. En cada fila usualmente se representa un observación.\n",
        "\n",
        "Por ejemplo, la siguiente información consiste de 4 observaciones sobre tres variables $x$, $y$ y $z$.\n",
        "\n"
      ]
    },
    {
      "cell_type": "markdown",
      "metadata": {
        "id": "hnfWOiE2atI0"
      },
      "source": [
        "![Tabla.PNG](data:image/png;base64,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)"
      ]
    },
    {
      "cell_type": "code",
      "metadata": {
        "colab": {
          "base_uri": "https://localhost:8080/",
          "height": 255
        },
        "id": "os3TJfXyZhpZ",
        "outputId": "85316d4a-d67c-4ca7-c2f4-d3d762c918ac"
      },
      "source": [
        "tab.df = read.table(\"pretend.dat\",header=T)\n",
        "tab.df"
      ],
      "execution_count": null,
      "outputs": [
        {
          "output_type": "stream",
          "text": [
            "Warning message in read.table(\"pretend.dat\", header = T):\n",
            "“incomplete final line found by readTableHeader on 'pretend.dat'”\n"
          ],
          "name": "stderr"
        },
        {
          "output_type": "display_data",
          "data": {
            "text/plain": [
              "  x   y  z \n",
              "1  61 13  4\n",
              "2 175 21 18\n",
              "3  11 24 14\n",
              "4 124 23 18"
            ],
            "text/latex": "A data.frame: 4 × 3\n\\begin{tabular}{lll}\n x & y & z\\\\\n <int> & <int> & <int>\\\\\n\\hline\n\t  61 & 13 &  4\\\\\n\t 175 & 21 & 18\\\\\n\t  11 & 24 & 14\\\\\n\t 124 & 23 & 18\\\\\n\\end{tabular}\n",
            "text/markdown": "\nA data.frame: 4 × 3\n\n| x &lt;int&gt; | y &lt;int&gt; | z &lt;int&gt; |\n|---|---|---|\n|  61 | 13 |  4 |\n| 175 | 21 | 18 |\n|  11 | 24 | 14 |\n| 124 | 23 | 18 |\n\n",
            "text/html": [
              "<table class=\"dataframe\">\n",
              "<caption>A data.frame: 4 × 3</caption>\n",
              "<thead>\n",
              "\t<tr><th scope=col>x</th><th scope=col>y</th><th scope=col>z</th></tr>\n",
              "\t<tr><th scope=col>&lt;int&gt;</th><th scope=col>&lt;int&gt;</th><th scope=col>&lt;int&gt;</th></tr>\n",
              "</thead>\n",
              "<tbody>\n",
              "\t<tr><td> 61</td><td>13</td><td> 4</td></tr>\n",
              "\t<tr><td>175</td><td>21</td><td>18</td></tr>\n",
              "\t<tr><td> 11</td><td>24</td><td>14</td></tr>\n",
              "\t<tr><td>124</td><td>23</td><td>18</td></tr>\n",
              "</tbody>\n",
              "</table>\n"
            ]
          },
          "metadata": {
            "tags": []
          }
        }
      ]
    },
    {
      "cell_type": "code",
      "metadata": {
        "colab": {
          "base_uri": "https://localhost:8080/",
          "height": 34
        },
        "id": "qFdGwe5rHNrC",
        "outputId": "05f34969-7e86-46d8-ce28-ffafedbd33a8"
      },
      "source": [
        "class(tab.df)"
      ],
      "execution_count": null,
      "outputs": [
        {
          "output_type": "display_data",
          "data": {
            "text/plain": [
              "[1] \"data.frame\""
            ],
            "text/latex": "'data.frame'",
            "text/markdown": "'data.frame'",
            "text/html": [
              "'data.frame'"
            ]
          },
          "metadata": {
            "tags": []
          }
        }
      ]
    },
    {
      "cell_type": "code",
      "metadata": {
        "colab": {
          "base_uri": "https://localhost:8080/",
          "height": 34
        },
        "id": "G-AwxoIMHFgD",
        "outputId": "a15b38f1-e84e-453b-e7f9-d77cbe5c2e1d"
      },
      "source": [
        "tab.df[,1]# la variable x es seleccionada"
      ],
      "execution_count": null,
      "outputs": [
        {
          "output_type": "display_data",
          "data": {
            "text/plain": [
              "[1]  61 175  11 124"
            ],
            "text/latex": "\\begin{enumerate*}\n\\item 61\n\\item 175\n\\item 11\n\\item 124\n\\end{enumerate*}\n",
            "text/markdown": "1. 61\n2. 175\n3. 11\n4. 124\n\n\n",
            "text/html": [
              "<style>\n",
              ".list-inline {list-style: none; margin:0; padding: 0}\n",
              ".list-inline>li {display: inline-block}\n",
              ".list-inline>li:not(:last-child)::after {content: \"\\00b7\"; padding: 0 .5ex}\n",
              "</style>\n",
              "<ol class=list-inline><li>61</li><li>175</li><li>11</li><li>124</li></ol>\n"
            ]
          },
          "metadata": {
            "tags": []
          }
        }
      ]
    },
    {
      "cell_type": "code",
      "metadata": {
        "colab": {
          "base_uri": "https://localhost:8080/",
          "height": 51
        },
        "id": "1nva6opYHtbL",
        "outputId": "e06e0640-449d-4d1d-b87d-fcc0854be2c9"
      },
      "source": [
        "x = tab.df[,\"x\"]\n",
        "summary(x) # obtenemos un resumen estadístico "
      ],
      "execution_count": null,
      "outputs": [
        {
          "output_type": "display_data",
          "data": {
            "text/plain": [
              "   Min. 1st Qu.  Median    Mean 3rd Qu.    Max. \n",
              "  11.00   48.50   92.50   92.75  136.75  175.00 "
            ]
          },
          "metadata": {
            "tags": []
          }
        }
      ]
    },
    {
      "cell_type": "code",
      "metadata": {
        "colab": {
          "base_uri": "https://localhost:8080/",
          "height": 51
        },
        "id": "PvPqREaLu7P4",
        "outputId": "53e8a930-9c73-434c-ff86-65a659891d8a"
      },
      "source": [
        "summary(x)[3]"
      ],
      "execution_count": null,
      "outputs": [
        {
          "output_type": "display_data",
          "data": {
            "text/plain": [
              "Median \n",
              "  92.5 "
            ]
          },
          "metadata": {
            "tags": []
          }
        }
      ]
    },
    {
      "cell_type": "markdown",
      "metadata": {
        "id": "eEe9rbUX37aN"
      },
      "source": [
        "# 2.0 Funciones incorporadas en R (Built-in Functions)\n",
        "\n",
        "Una útil alternativa para usar *help()* es la función *example()*:\n",
        "\n",
        "Este ejemplo muestra un uso simple de la función \n",
        "```\n",
        "mean()\n",
        "```\n",
        "y también del uso del argumento *trim*. (Cuando *trim=0.1* el más alto 10% y el más bajo 10% de la información son borrados antes de calcular el promedio aritmético.)\n",
        "\n",
        "Para el vector x=(0,1,2,3,4,5,6,7,8,9,10,50), cuando especificamos el parámetro *trim*=0.10, estamos indicando que a la información se le quitará el 10% de los datos al inicio y al final, este valor corresponde a 1.2, el cual, R aproxima al entero más cercano mayor, 2 en este caso. Por lo que al aplicar la función *mean()* con dicho argumento, le sacamos la media al vector (2,3,4,5,6,7,8,9) \n",
        "\n"
      ]
    },
    {
      "cell_type": "code",
      "metadata": {
        "id": "3la-Yche33lj",
        "colab": {
          "base_uri": "https://localhost:8080/"
        },
        "outputId": "fe5b5db8-e4b0-4ccf-af0f-b15922deb8ee"
      },
      "source": [
        "example(mean)"
      ],
      "execution_count": null,
      "outputs": [
        {
          "output_type": "stream",
          "text": [
            "\n",
            "mean> x <- c(0:10, 50)\n",
            "\n",
            "mean> xm <- mean(x)\n",
            "\n",
            "mean> c(xm, mean(x, trim = 0.10))\n",
            "[1] 8.75 5.50\n"
          ],
          "name": "stdout"
        }
      ]
    },
    {
      "cell_type": "code",
      "metadata": {
        "id": "h9fNvgYxO02C"
      },
      "source": [
        ""
      ],
      "execution_count": null,
      "outputs": []
    },
    {
      "cell_type": "markdown",
      "metadata": {
        "id": "Zb0oj45fr8nb"
      },
      "source": [
        "# 2.1 Cómo encontrar ayuda cuando no se sabe el nombre de la función.\n",
        "\n",
        "\n",
        "Un comando que puede ser de utilidad es\n",
        "```\n",
        "help.search()\n",
        "```\n",
        "Por ejemplo, si se quiere averiguar por la existencia de alguna función o rutina de optimización, escribimos\n",
        "\n",
        "\n"
      ]
    },
    {
      "cell_type": "code",
      "metadata": {
        "id": "Z0_mr2Oiprvc"
      },
      "source": [
        "help.search('optimization')"
      ],
      "execution_count": null,
      "outputs": []
    },
    {
      "cell_type": "markdown",
      "metadata": {
        "id": "k3BYOXkQuZSD"
      },
      "source": [
        "Podemos entonces revisar  una función en específico tal como \n",
        "```\n",
        "help(nlm)\n",
        "```\n",
        "\n"
      ]
    },
    {
      "cell_type": "markdown",
      "metadata": {
        "id": "iUzm6eTxuwdy"
      },
      "source": [
        "# 2.2 Funciones Built-in para graficar\n",
        "\n",
        "Dos gráficas básicas son el histograma y un diagrama de dispersión de puntos. \n",
        "Consideremos por ejemplo"
      ]
    },
    {
      "cell_type": "code",
      "metadata": {
        "colab": {
          "base_uri": "https://localhost:8080/",
          "height": 437
        },
        "id": "Pvs_ZT6kuGij",
        "outputId": "ab0a6e49-cd68-4911-eaff-b4934e6ecbab"
      },
      "source": [
        "x = c(12,15,13,20,14,16,10,10,8,15)\n",
        "hist(x,main=\"Histograma referencia\",ylab=\"etiqueta del eje y\")"
      ],
      "execution_count": null,
      "outputs": [
        {
          "output_type": "display_data",
          "data": {
            "image/png": "[encoded data removed]",
            "text/plain": [
              "Plot with title “Histograma referencia”"
            ]
          },
          "metadata": {
            "tags": [],
            "image/png": {
              "width": 420,
              "height": 420
            }
          }
        }
      ]
    },
    {
      "cell_type": "code",
      "metadata": {
        "colab": {
          "base_uri": "https://localhost:8080/",
          "height": 437
        },
        "id": "WVXFTFfbvKNy",
        "outputId": "8dd7aceb-0e44-4c78-e7ce-98cb91fb5ec4"
      },
      "source": [
        "x = seq(1,10)\n",
        "y = x^2 - 10*x\n",
        "plot(x,y,type=\"l\")"
      ],
      "execution_count": null,
      "outputs": [
        {
          "output_type": "display_data",
          "data": {
            "image/png": "[encoded data removed]",
            "text/plain": [
              "plot without title"
            ]
          },
          "metadata": {
            "tags": [],
            "image/png": {
              "width": 420,
              "height": 420
            }
          }
        }
      ]
    },
    {
      "cell_type": "markdown",
      "metadata": {
        "id": "gIIPldWRvhnS"
      },
      "source": [
        "Note que los valores $x$ son graficados a lo largo del eje horizontal.\n",
        "\n",
        "Otra función útil de dibujo de gráficas es la función *curve()* para obtener el gráfico de una función matemática univariada sobre un intervalo. Los puntos a la izquierda y a la derecha del intervalo son especificados por los argumentos *from* y *to* respectivamente.\n",
        "\n",
        "El parámetro *expr* es una función (cuyo resultado es un vector numérico cuando la entrada es un vector numérico) o una expresión en términos de $x$."
      ]
    },
    {
      "cell_type": "code",
      "metadata": {
        "id": "AfWbNlhtvXBa",
        "colab": {
          "base_uri": "https://localhost:8080/",
          "height": 437
        },
        "outputId": "21eb093c-3ae9-4842-a45f-b1972553a6c2"
      },
      "source": [
        "curve(expr=sin,from=0,to=6*pi)"
      ],
      "execution_count": null,
      "outputs": [
        {
          "output_type": "display_data",
          "data": {
            "image/png": "[encoded data removed]",
            "text/plain": [
              "plot without title"
            ]
          },
          "metadata": {
            "tags": [],
            "image/png": {
              "width": 420,
              "height": 420
            }
          }
        }
      ]
    },
    {
      "cell_type": "code",
      "metadata": {
        "id": "Z5DsfEEpwTY8",
        "colab": {
          "base_uri": "https://localhost:8080/",
          "height": 437
        },
        "outputId": "78ff70c6-8e04-4dcb-8bbd-5a35ca7b5311"
      },
      "source": [
        "curve(x^2-10*x,from=-1,to=10)"
      ],
      "execution_count": null,
      "outputs": [
        {
          "output_type": "display_data",
          "data": {
            "image/png": "[encoded data removed]",
            "text/plain": [
              "plot without title"
            ]
          },
          "metadata": {
            "tags": [],
            "image/png": {
              "width": 420,
              "height": 420
            }
          }
        }
      ]
    },
    {
      "cell_type": "markdown",
      "metadata": {
        "id": "PfR6KS6SxjqC"
      },
      "source": [
        "# 2.3 Funciones Built-in elementales adicionales\n",
        "## La mediana muestral\n",
        "\n",
        "La media muestral mide el valor medio de una base de datos numérica. Si los datos son \n",
        "$$x[1]\\leq x[2]\\leq \\cdots\\leq x[n],$$\n",
        " entonces la mediana es $x[(n+1)/2]$, si $n$ es impar, o $\\left\\{\\frac{x[n/2]+x[n/2+1]}{2}\\right\\}$, si $n$ es par. Por ejemplo:"
      ]
    },
    {
      "cell_type": "code",
      "metadata": {
        "id": "8H7fNHD7w4jj",
        "colab": {
          "base_uri": "https://localhost:8080/",
          "height": 34
        },
        "outputId": "cc1c0afb-197e-4f70-c43c-f591ee63856d"
      },
      "source": [
        "a = c(10,10,18,30,32)\n",
        "median(a)"
      ],
      "execution_count": null,
      "outputs": [
        {
          "output_type": "display_data",
          "data": {
            "text/plain": [
              "[1] 18"
            ],
            "text/latex": "18",
            "text/markdown": "18",
            "text/html": [
              "18"
            ]
          },
          "metadata": {
            "tags": []
          }
        }
      ]
    },
    {
      "cell_type": "code",
      "metadata": {
        "id": "QYNJp3e0zpYd",
        "colab": {
          "base_uri": "https://localhost:8080/",
          "height": 34
        },
        "outputId": "8d06fdb6-8386-4c9e-fa09-c525ea06c796"
      },
      "source": [
        "b = c(40,10,10,18,30,32)\n",
        "median(b)"
      ],
      "execution_count": null,
      "outputs": [
        {
          "output_type": "display_data",
          "data": {
            "text/plain": [
              "[1] 24"
            ],
            "text/latex": "24",
            "text/markdown": "24",
            "text/html": [
              "24"
            ]
          },
          "metadata": {
            "tags": []
          }
        }
      ]
    },
    {
      "cell_type": "markdown",
      "metadata": {
        "id": "UmnXN9N60AO5"
      },
      "source": [
        "## Otras medidas de resúmen de datos \n",
        "Los resúmenes estadísticos pueden ser calculados para información guardada en vectores. En particular"
      ]
    },
    {
      "cell_type": "code",
      "metadata": {
        "id": "jdFisjPyzyiS",
        "colab": {
          "base_uri": "https://localhost:8080/",
          "height": 34
        },
        "outputId": "fad99d19-2a55-4d18-e024-99061e4998e8"
      },
      "source": [
        "var(a) # Este comando calcula la varianza del vector a"
      ],
      "execution_count": null,
      "outputs": [
        {
          "output_type": "display_data",
          "data": {
            "text/plain": [
              "[1] 112"
            ],
            "text/latex": "112",
            "text/markdown": "112",
            "text/html": [
              "112"
            ]
          },
          "metadata": {
            "tags": []
          }
        }
      ]
    },
    {
      "cell_type": "code",
      "metadata": {
        "id": "replwPGW0PUF",
        "colab": {
          "base_uri": "https://localhost:8080/",
          "height": 51
        },
        "outputId": "c27fde10-c650-4186-e10c-e3f416447862"
      },
      "source": [
        "summary(b) # Este comando hace un resúmen estadístico del vector b."
      ],
      "execution_count": null,
      "outputs": [
        {
          "output_type": "display_data",
          "data": {
            "text/plain": [
              "   Min. 1st Qu.  Median    Mean 3rd Qu.    Max. \n",
              "  10.00   12.00   24.00   23.33   31.50   40.00 "
            ]
          },
          "metadata": {
            "tags": []
          }
        }
      ]
    },
    {
      "cell_type": "markdown",
      "metadata": {
        "id": "JN1-UbNk0vS_"
      },
      "source": [
        "# 3.0 Ejercicios\n",
        "\n",
        "1.   Las siguientes son unas muestras de observaciones sobre la radiación solar entrante en un invernadero:\n",
        "               11.1 10.6 6.3 8.8 10.7 11.2 8.9 12.2\n",
        "\n",
        "\n",
        "* Asigne la información a un objeto llamado *radiacion.solar*\n",
        "* Encuentre la media, mediana y varianza de las observaciones de radiación.\n",
        "* Sume 10 a cada observación de *radiacion.solar*, y asigne el resultado a la variable *sr10*. Qué estadísticas cambian, y cuánto?\n",
        "* Multiplique cada observación por -2, y asigne el resultado a la variable *srm2*. Cómo cambian las estadísticas?\n",
        "* Grafique un histograma de *radiacion.solar*, *sr10* y *srm2*.\n",
        "* Hay dos fórmulas comunmente usadas para la varianza de un conjuto de números:\n",
        "$$\\frac{1}{n}\\sum_{i=1}^n(x_i-\\bar{x})^2$$\n",
        "y\n",
        "$$\\frac{1}{n-1}\\sum_{i=1}^n(x_i-\\bar{x})^2$$\n",
        "Uno usa la muestra de tamaño $n$ en el denominador, y el otro usa $n-1$.\n",
        "\n",
        "¿Cuál fórmula usa la fóruma *var()* en R?\n",
        "\n",
        "\n"
      ]
    },
    {
      "cell_type": "code",
      "metadata": {
        "colab": {
          "base_uri": "https://localhost:8080/"
        },
        "id": "CLljaaOZ7SnH",
        "outputId": "8d674cc4-1d94-4467-9269-f90882877a0d"
      },
      "source": [
        "radiacion.solar <- c(11.1,10.6 ,6.3 ,8.8 ,10.7, 11.2, 8.9 ,12.2)\n",
        "print(mean(radiacion.solar))\n",
        "print(median(radiacion.solar))\n",
        "print(var(radiacion.solar))"
      ],
      "execution_count": null,
      "outputs": [
        {
          "output_type": "stream",
          "text": [
            "[1] 9.975\n",
            "[1] 10.65\n",
            "[1] 3.525\n"
          ],
          "name": "stdout"
        }
      ]
    },
    {
      "cell_type": "code",
      "metadata": {
        "colab": {
          "base_uri": "https://localhost:8080/"
        },
        "id": "1hVolHVA73J1",
        "outputId": "92f91ee5-ca3f-4c59-a95f-7273b1b65049"
      },
      "source": [
        "sr10 = radiacion.solar + 10\n",
        "print(mean(sr10))\n",
        "print(median(sr10))\n",
        "print(var(sr10))"
      ],
      "execution_count": null,
      "outputs": [
        {
          "output_type": "stream",
          "text": [
            "[1] 19.975\n",
            "[1] 20.65\n",
            "[1] 3.525\n"
          ],
          "name": "stdout"
        }
      ]
    },
    {
      "cell_type": "code",
      "metadata": {
        "colab": {
          "base_uri": "https://localhost:8080/"
        },
        "id": "bB4LkYqs8W2P",
        "outputId": "73df1195-4891-4b25-c38b-f02e5051731f"
      },
      "source": [
        "sr2 = radiacion.solar*(-2)\n",
        "print(mean(sr2))\n",
        "print(median(sr2))\n",
        "print(var(sr2))"
      ],
      "execution_count": null,
      "outputs": [
        {
          "output_type": "stream",
          "text": [
            "[1] -19.95\n",
            "[1] -21.3\n",
            "[1] 14.1\n"
          ],
          "name": "stdout"
        }
      ]
    },
    {
      "cell_type": "code",
      "metadata": {
        "colab": {
          "base_uri": "https://localhost:8080/",
          "height": 437
        },
        "id": "yKqbDGaP8lD1",
        "outputId": "ecc22f83-531b-40eb-bfe5-51678bb93527"
      },
      "source": [
        "par(mfrow = c(1,3))  # Graficar en una matriz de una fila por tres columnas\n",
        "hist(radiacion.solar)\n",
        "hist(sr10)\n",
        "hist(sr2)\n",
        "par(mfrow = c(1,1))"
      ],
      "execution_count": null,
      "outputs": [
        {
          "output_type": "display_data",
          "data": {
            "image/png": "[encoded data removed]",
            "text/plain": [
              "Plot with title “Histogram of sr2”"
            ]
          },
          "metadata": {
            "tags": [],
            "image/png": {
              "width": 420,
              "height": 420
            }
          }
        }
      ]
    },
    {
      "cell_type": "code",
      "metadata": {
        "colab": {
          "base_uri": "https://localhost:8080/",
          "height": 437
        },
        "id": "iECer4079Reb",
        "outputId": "e8b13e82-67c1-4d25-90e9-6a56e1ebc7e7"
      },
      "source": [
        "hist(radiacion.solar)"
      ],
      "execution_count": null,
      "outputs": [
        {
          "output_type": "display_data",
          "data": {
            "image/png": "[encoded data removed]",
            "text/plain": [
              "Plot with title “Histogram of radiacion.solar”"
            ]
          },
          "metadata": {
            "tags": [],
            "image/png": {
              "width": 420,
              "height": 420
            }
          }
        }
      ]
    },
    {
      "cell_type": "code",
      "metadata": {
        "colab": {
          "base_uri": "https://localhost:8080/",
          "height": 34
        },
        "id": "21I_3uPd9j6s",
        "outputId": "f949ab15-ee93-42e0-bf47-b56eeb04faae"
      },
      "source": [
        "var(radiacion.solar) == sum((radiacion.solar-mean(radiacion.solar))^2)/length(radiacion.solar)  "
      ],
      "execution_count": null,
      "outputs": [
        {
          "output_type": "display_data",
          "data": {
            "text/plain": [
              "[1] FALSE"
            ],
            "text/latex": "FALSE",
            "text/markdown": "FALSE",
            "text/html": [
              "FALSE"
            ]
          },
          "metadata": {
            "tags": []
          }
        }
      ]
    },
    {
      "cell_type": "code",
      "metadata": {
        "colab": {
          "base_uri": "https://localhost:8080/",
          "height": 34
        },
        "id": "Yg-at2Iv_GIC",
        "outputId": "2e384066-5f7b-49a7-d49a-2d21c2a6199e"
      },
      "source": [
        "abs(sum((radiacion.solar-mean(radiacion.solar))^2)/length(radiacion.solar)-var(radiacion.solar))"
      ],
      "execution_count": null,
      "outputs": [
        {
          "output_type": "display_data",
          "data": {
            "text/plain": [
              "[1] 0.440625"
            ],
            "text/latex": "0.440625",
            "text/markdown": "0.440625",
            "text/html": [
              "0.440625"
            ]
          },
          "metadata": {
            "tags": []
          }
        }
      ]
    },
    {
      "cell_type": "code",
      "metadata": {
        "colab": {
          "base_uri": "https://localhost:8080/",
          "height": 34
        },
        "id": "8hOFoM5Q-LJN",
        "outputId": "551a3f66-26d4-4944-9f2d-5e082933a1da"
      },
      "source": [
        "var(radiacion.solar)==sum((radiacion.solar-mean(radiacion.solar))^2)/(length(radiacion.solar)-1)  "
      ],
      "execution_count": null,
      "outputs": [
        {
          "output_type": "display_data",
          "data": {
            "text/plain": [
              "[1] TRUE"
            ],
            "text/latex": "TRUE",
            "text/markdown": "TRUE",
            "text/html": [
              "TRUE"
            ]
          },
          "metadata": {
            "tags": []
          }
        }
      ]
    },
    {
      "cell_type": "code",
      "metadata": {
        "colab": {
          "base_uri": "https://localhost:8080/",
          "height": 34
        },
        "id": "akEyZJzx-0Xx",
        "outputId": "a367ddcf-19e7-4cda-a9c1-000206793ade"
      },
      "source": [
        "3==6/2"
      ],
      "execution_count": null,
      "outputs": [
        {
          "output_type": "display_data",
          "data": {
            "text/plain": [
              "[1] TRUE"
            ],
            "text/latex": "TRUE",
            "text/markdown": "TRUE",
            "text/html": [
              "TRUE"
            ]
          },
          "metadata": {
            "tags": []
          }
        }
      ]
    },
    {
      "cell_type": "markdown",
      "metadata": {
        "id": "UQErhGqgMbEM"
      },
      "source": [
        "# 4.0 Vectores Lógicos y operadores relacionales\n",
        "\n",
        "Hemos usdo la función *c()* para juntar vectores numéricos como también de caracteres. R también soporta vectores lógicos. Contienen dos valores: \n",
        "\n",
        "\n",
        "```\n",
        "TRUE o FALSE\n",
        "```\n",
        "\n"
      ]
    },
    {
      "cell_type": "markdown",
      "metadata": {
        "id": "yHWwVm33Pbfj"
      },
      "source": [
        "![Tabla de verdad.PNG](data:image/png;base64,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)"
      ]
    },
    {
      "cell_type": "markdown",
      "metadata": {
        "id": "0epWaHOBPnyC"
      },
      "source": [
        "# 4.1 Operaciones lógicas en R\n",
        "\n",
        "Uno de los tipos básicos de vector en R es el de valores lógicos. Por ejemplo, un vector lógico puede ser construido como"
      ]
    },
    {
      "cell_type": "code",
      "metadata": {
        "id": "l53Uxiq9P4hZ"
      },
      "source": [
        "a = c(TRUE,FALSE,FALSE,TRUE)"
      ],
      "execution_count": null,
      "outputs": []
    },
    {
      "cell_type": "markdown",
      "metadata": {
        "id": "7NG69KmSQDgC"
      },
      "source": [
        "El resultados es un vector de 4 valores lógicos. Los valores lógicos pueden ser usadas como índices:"
      ]
    },
    {
      "cell_type": "code",
      "metadata": {
        "id": "nPOFBCKh0Zf1",
        "colab": {
          "base_uri": "https://localhost:8080/",
          "height": 34
        },
        "outputId": "38289829-ae3a-4a4b-c266-57075cdfb88a"
      },
      "source": [
        "b = c(13,7,8,2)\n",
        "b[a]"
      ],
      "execution_count": null,
      "outputs": [
        {
          "output_type": "display_data",
          "data": {
            "text/plain": [
              "[1] 13  2"
            ],
            "text/latex": "\\begin{enumerate*}\n\\item 13\n\\item 2\n\\end{enumerate*}\n",
            "text/markdown": "1. 13\n2. 2\n\n\n",
            "text/html": [
              "<style>\n",
              ".list-inline {list-style: none; margin:0; padding: 0}\n",
              ".list-inline>li {display: inline-block}\n",
              ".list-inline>li:not(:last-child)::after {content: \"\\00b7\"; padding: 0 .5ex}\n",
              "</style>\n",
              "<ol class=list-inline><li>13</li><li>2</li></ol>\n"
            ]
          },
          "metadata": {
            "tags": []
          }
        }
      ]
    },
    {
      "cell_type": "markdown",
      "metadata": {
        "id": "Xj7vIUnHQVIS"
      },
      "source": [
        "Los elementos de *b* correspondientes a *TRUE* son seleccionados.\n",
        "\n",
        "Si intentamos desarrollar aritmética sobre un vector lógico, por ejemplo "
      ]
    },
    {
      "cell_type": "code",
      "metadata": {
        "id": "jrm-PpmJQqSa",
        "colab": {
          "base_uri": "https://localhost:8080/",
          "height": 34
        },
        "outputId": "06f8d9a3-c6c1-463e-f3cb-c17fa543c1be"
      },
      "source": [
        "sum(a)"
      ],
      "execution_count": null,
      "outputs": [
        {
          "output_type": "display_data",
          "data": {
            "text/plain": [
              "[1] 2"
            ],
            "text/latex": "2",
            "text/markdown": "2",
            "text/html": [
              "2"
            ]
          },
          "metadata": {
            "tags": []
          }
        }
      ]
    },
    {
      "cell_type": "code",
      "metadata": {
        "colab": {
          "base_uri": "https://localhost:8080/",
          "height": 34
        },
        "id": "mJzf-s42BO_e",
        "outputId": "8a67f2d4-3dbf-4326-f618-179d58a14e5d"
      },
      "source": [
        "1 == TRUE"
      ],
      "execution_count": null,
      "outputs": [
        {
          "output_type": "display_data",
          "data": {
            "text/plain": [
              "[1] TRUE"
            ],
            "text/latex": "TRUE",
            "text/markdown": "TRUE",
            "text/html": [
              "TRUE"
            ]
          },
          "metadata": {
            "tags": []
          }
        }
      ]
    },
    {
      "cell_type": "markdown",
      "metadata": {
        "id": "MUp35MkvQujS"
      },
      "source": [
        "Entonces entendemos que R tiene un valor numérico de 1 correspondiente al valor lógico *TRUE*, mientras que valora a *FALSE* con un 0.\n",
        "\n",
        "Hay dos versiones de los operadores Booleanos. Las versiones usuales son \n",
        "\n",
        "\n",
        "```\n",
        "&, | y !\n",
        "```\n",
        "Ellas son vectorizadas, así que vemos por ejemplo\n"
      ]
    },
    {
      "cell_type": "code",
      "metadata": {
        "id": "NNva8L-LQrNb",
        "colab": {
          "base_uri": "https://localhost:8080/",
          "height": 34
        },
        "outputId": "889f4272-64a6-4319-a047-b83451e5cb39"
      },
      "source": [
        "!a"
      ],
      "execution_count": null,
      "outputs": [
        {
          "output_type": "display_data",
          "data": {
            "text/plain": [
              "[1] FALSE  TRUE  TRUE FALSE"
            ],
            "text/latex": "\\begin{enumerate*}\n\\item FALSE\n\\item TRUE\n\\item TRUE\n\\item FALSE\n\\end{enumerate*}\n",
            "text/markdown": "1. FALSE\n2. TRUE\n3. TRUE\n4. FALSE\n\n\n",
            "text/html": [
              "<style>\n",
              ".list-inline {list-style: none; margin:0; padding: 0}\n",
              ".list-inline>li {display: inline-block}\n",
              ".list-inline>li:not(:last-child)::after {content: \"\\00b7\"; padding: 0 .5ex}\n",
              "</style>\n",
              "<ol class=list-inline><li>FALSE</li><li>TRUE</li><li>TRUE</li><li>FALSE</li></ol>\n"
            ]
          },
          "metadata": {
            "tags": []
          }
        }
      ]
    },
    {
      "cell_type": "markdown",
      "metadata": {
        "id": "6G0Db_qbRZQr"
      },
      "source": [
        "Si intentamos operaciones lógicas sobre un vector numérico, el número 0 se toma como *FALSE*, y cualquier valor no nulo es tomado como *TRUE*:"
      ]
    },
    {
      "cell_type": "code",
      "metadata": {
        "id": "zr5QxwPqRUTs",
        "colab": {
          "base_uri": "https://localhost:8080/",
          "height": 34
        },
        "outputId": "5615d9c9-7cd4-4c2e-862b-d5c886f96a7c"
      },
      "source": [
        "a & (b-2)"
      ],
      "execution_count": null,
      "outputs": [
        {
          "output_type": "display_data",
          "data": {
            "text/plain": [
              "[1]  TRUE FALSE FALSE FALSE"
            ],
            "text/latex": "\\begin{enumerate*}\n\\item TRUE\n\\item FALSE\n\\item FALSE\n\\item FALSE\n\\end{enumerate*}\n",
            "text/markdown": "1. TRUE\n2. FALSE\n3. FALSE\n4. FALSE\n\n\n",
            "text/html": [
              "<style>\n",
              ".list-inline {list-style: none; margin:0; padding: 0}\n",
              ".list-inline>li {display: inline-block}\n",
              ".list-inline>li:not(:last-child)::after {content: \"\\00b7\"; padding: 0 .5ex}\n",
              "</style>\n",
              "<ol class=list-inline><li>TRUE</li><li>FALSE</li><li>FALSE</li><li>FALSE</li></ol>\n"
            ]
          },
          "metadata": {
            "tags": []
          }
        }
      ]
    },
    {
      "cell_type": "code",
      "metadata": {
        "colab": {
          "base_uri": "https://localhost:8080/"
        },
        "id": "Xyb-LsYOCASy",
        "outputId": "8c0ea14a-996e-413c-b728-bb63bafd1bcc"
      },
      "source": [
        "print(b-2)\n",
        "print(a)"
      ],
      "execution_count": null,
      "outputs": [
        {
          "output_type": "stream",
          "text": [
            "[1] 11  5  6  0\n",
            "[1]  TRUE FALSE FALSE  TRUE\n"
          ],
          "name": "stdout"
        }
      ]
    },
    {
      "cell_type": "code",
      "metadata": {
        "colab": {
          "base_uri": "https://localhost:8080/",
          "height": 34
        },
        "id": "hRpH_jSaCT0E",
        "outputId": "d2f0da53-3ec1-4827-db34-75a998d3149c"
      },
      "source": [
        "a | (b-2)"
      ],
      "execution_count": null,
      "outputs": [
        {
          "output_type": "display_data",
          "data": {
            "text/plain": [
              "[1] TRUE TRUE TRUE TRUE"
            ],
            "text/latex": "\\begin{enumerate*}\n\\item TRUE\n\\item TRUE\n\\item TRUE\n\\item TRUE\n\\end{enumerate*}\n",
            "text/markdown": "1. TRUE\n2. TRUE\n3. TRUE\n4. TRUE\n\n\n",
            "text/html": [
              "<style>\n",
              ".list-inline {list-style: none; margin:0; padding: 0}\n",
              ".list-inline>li {display: inline-block}\n",
              ".list-inline>li:not(:last-child)::after {content: \"\\00b7\"; padding: 0 .5ex}\n",
              "</style>\n",
              "<ol class=list-inline><li>TRUE</li><li>TRUE</li><li>TRUE</li><li>TRUE</li></ol>\n"
            ]
          },
          "metadata": {
            "tags": []
          }
        }
      ]
    },
    {
      "cell_type": "markdown",
      "metadata": {
        "id": "zAOUCZR4DGn0"
      },
      "source": [
        "## La disyunción exclusiva (ó exclusivo) está dada por el comando\n",
        "\n",
        "```\n",
        "xor(x,y)\n",
        "```\n",
        "\n"
      ]
    },
    {
      "cell_type": "code",
      "metadata": {
        "colab": {
          "base_uri": "https://localhost:8080/"
        },
        "id": "uus1QLASC0bR",
        "outputId": "565ca57f-256e-4488-fb2b-0ce76729cb1b"
      },
      "source": [
        "print(a)\n",
        "print(b)"
      ],
      "execution_count": null,
      "outputs": [
        {
          "output_type": "stream",
          "text": [
            "[1]  TRUE FALSE FALSE  TRUE\n",
            "[1] 13  7  8  2\n"
          ],
          "name": "stdout"
        }
      ]
    },
    {
      "cell_type": "markdown",
      "metadata": {
        "id": "gjAm_k-kSBJA"
      },
      "source": [
        "# 4.2 Ejercicios\n",
        "1. Usando los valores de *a* y *b*, prediga el resultado de cada una de las expresiones, luego intentelas calcular en R:\n",
        "* min(b)\n",
        "* min(a)\n",
        "* max(b)\n",
        "* max(a)\n",
        "* length(a)\n",
        "2. Escriba b*a"
      ]
    },
    {
      "cell_type": "code",
      "metadata": {
        "colab": {
          "base_uri": "https://localhost:8080/",
          "height": 119
        },
        "id": "_URPcSzXDy6S",
        "outputId": "0e661ca5-8571-41d3-b689-78cdb719061c"
      },
      "source": [
        "print(min(b))\n",
        "print(min(a))\n",
        "print(max(b))\n",
        "print(max(a))\n",
        "length(a)\n",
        "b*a"
      ],
      "execution_count": null,
      "outputs": [
        {
          "output_type": "stream",
          "text": [
            "[1] 2\n",
            "[1] 0\n",
            "[1] 13\n",
            "[1] 1\n"
          ],
          "name": "stdout"
        },
        {
          "output_type": "display_data",
          "data": {
            "text/plain": [
              "[1] 4"
            ],
            "text/latex": "4",
            "text/markdown": "4",
            "text/html": [
              "4"
            ]
          },
          "metadata": {
            "tags": []
          }
        },
        {
          "output_type": "display_data",
          "data": {
            "text/plain": [
              "[1] 13  0  0  2"
            ],
            "text/latex": "\\begin{enumerate*}\n\\item 13\n\\item 0\n\\item 0\n\\item 2\n\\end{enumerate*}\n",
            "text/markdown": "1. 13\n2. 0\n3. 0\n4. 2\n\n\n",
            "text/html": [
              "<style>\n",
              ".list-inline {list-style: none; margin:0; padding: 0}\n",
              ".list-inline>li {display: inline-block}\n",
              ".list-inline>li:not(:last-child)::after {content: \"\\00b7\"; padding: 0 .5ex}\n",
              "</style>\n",
              "<ol class=list-inline><li>13</li><li>0</li><li>0</li><li>2</li></ol>\n"
            ]
          },
          "metadata": {
            "tags": []
          }
        }
      ]
    },
    {
      "cell_type": "code",
      "metadata": {
        "colab": {
          "base_uri": "https://localhost:8080/",
          "height": 34
        },
        "id": "WoJG9-3PES2Z",
        "outputId": "c1610483-26ce-43b9-c05a-4a7bdf97b42b"
      },
      "source": [
        "min(a)"
      ],
      "execution_count": null,
      "outputs": [
        {
          "output_type": "display_data",
          "data": {
            "text/plain": [
              "[1] 0"
            ],
            "text/latex": "0",
            "text/markdown": "0",
            "text/html": [
              "0"
            ]
          },
          "metadata": {
            "tags": []
          }
        }
      ]
    },
    {
      "cell_type": "markdown",
      "metadata": {
        "id": "zNGl2_JISyci"
      },
      "source": [
        "# 4.3 Operadores relacionales\n",
        "Frecuentemente es necesario probar relaciones a la hora de programar para decidir si ellas son *TRUE* o *FALSE*. R permite hacer pruebas sobre relaciones de igualdad y desigualdad usando los operadores relacionales \n",
        "\n",
        "<,>,==,>=,<=,!=\n",
        "\n",
        "Ejemplos"
      ]
    },
    {
      "cell_type": "code",
      "metadata": {
        "id": "Yz-CDkDNRppk"
      },
      "source": [
        "a = c(3,6,9)"
      ],
      "execution_count": null,
      "outputs": []
    },
    {
      "cell_type": "markdown",
      "metadata": {
        "id": "bBJS566JTYtq"
      },
      "source": [
        "Para probar que los elementos son mayores o iguales a 4, escribimos"
      ]
    },
    {
      "cell_type": "code",
      "metadata": {
        "id": "twpSP0RERyB9",
        "colab": {
          "base_uri": "https://localhost:8080/",
          "height": 34
        },
        "outputId": "0c404a9d-7cc9-4550-e0d8-b278a1179c58"
      },
      "source": [
        "a>4"
      ],
      "execution_count": null,
      "outputs": [
        {
          "output_type": "display_data",
          "data": {
            "text/plain": [
              "[1] FALSE  TRUE  TRUE"
            ],
            "text/latex": "\\begin{enumerate*}\n\\item FALSE\n\\item TRUE\n\\item TRUE\n\\end{enumerate*}\n",
            "text/markdown": "1. FALSE\n2. TRUE\n3. TRUE\n\n\n",
            "text/html": [
              "<style>\n",
              ".list-inline {list-style: none; margin:0; padding: 0}\n",
              ".list-inline>li {display: inline-block}\n",
              ".list-inline>li:not(:last-child)::after {content: \"\\00b7\"; padding: 0 .5ex}\n",
              "</style>\n",
              "<ol class=list-inline><li>FALSE</li><li>TRUE</li><li>TRUE</li></ol>\n"
            ]
          },
          "metadata": {
            "tags": []
          }
        }
      ]
    },
    {
      "cell_type": "markdown",
      "metadata": {
        "id": "g05d-p7zTgHq"
      },
      "source": [
        "Para  probar que los elementos son exactamente iguales a 4, escribimos"
      ]
    },
    {
      "cell_type": "code",
      "metadata": {
        "id": "ub5OitC_Td2S",
        "colab": {
          "base_uri": "https://localhost:8080/",
          "height": 34
        },
        "outputId": "0bc93273-e524-4c4c-8efb-8d56ad14a686"
      },
      "source": [
        "a==4"
      ],
      "execution_count": null,
      "outputs": [
        {
          "output_type": "display_data",
          "data": {
            "text/plain": [
              "[1] FALSE FALSE FALSE"
            ],
            "text/latex": "\\begin{enumerate*}\n\\item FALSE\n\\item FALSE\n\\item FALSE\n\\end{enumerate*}\n",
            "text/markdown": "1. FALSE\n2. FALSE\n3. FALSE\n\n\n",
            "text/html": [
              "<style>\n",
              ".list-inline {list-style: none; margin:0; padding: 0}\n",
              ".list-inline>li {display: inline-block}\n",
              ".list-inline>li:not(:last-child)::after {content: \"\\00b7\"; padding: 0 .5ex}\n",
              "</style>\n",
              "<ol class=list-inline><li>FALSE</li><li>FALSE</li><li>FALSE</li></ol>\n"
            ]
          },
          "metadata": {
            "tags": []
          }
        }
      ]
    },
    {
      "cell_type": "markdown",
      "metadata": {
        "id": "SvsL6vKHUBba"
      },
      "source": [
        "Para probar que elementos son mayores o iguales a 4, escribimos"
      ]
    },
    {
      "cell_type": "code",
      "metadata": {
        "id": "V5BYwq2RTzGL",
        "colab": {
          "base_uri": "https://localhost:8080/",
          "height": 34
        },
        "outputId": "a6b6498b-9d3b-4f3e-9e0a-a34afd4fea66"
      },
      "source": [
        "a>=4"
      ],
      "execution_count": null,
      "outputs": [
        {
          "output_type": "display_data",
          "data": {
            "text/plain": [
              "[1] FALSE  TRUE  TRUE"
            ],
            "text/latex": "\\begin{enumerate*}\n\\item FALSE\n\\item TRUE\n\\item TRUE\n\\end{enumerate*}\n",
            "text/markdown": "1. FALSE\n2. TRUE\n3. TRUE\n\n\n",
            "text/html": [
              "<style>\n",
              ".list-inline {list-style: none; margin:0; padding: 0}\n",
              ".list-inline>li {display: inline-block}\n",
              ".list-inline>li:not(:last-child)::after {content: \"\\00b7\"; padding: 0 .5ex}\n",
              "</style>\n",
              "<ol class=list-inline><li>FALSE</li><li>TRUE</li><li>TRUE</li></ol>\n"
            ]
          },
          "metadata": {
            "tags": []
          }
        }
      ]
    },
    {
      "cell_type": "markdown",
      "metadata": {
        "id": "eRO2-awxUNjV"
      },
      "source": [
        "Para escribir los elementos de *a* que son mayores o iguales a 4, escribimos"
      ]
    },
    {
      "cell_type": "code",
      "metadata": {
        "id": "Iw_BaIfMT6EQ",
        "colab": {
          "base_uri": "https://localhost:8080/",
          "height": 34
        },
        "outputId": "d17d5956-26b7-44a6-e779-7e9e8fffbd7b"
      },
      "source": [
        "a[a>4]"
      ],
      "execution_count": null,
      "outputs": [
        {
          "output_type": "display_data",
          "data": {
            "text/plain": [
              "[1] 6 9"
            ],
            "text/latex": "\\begin{enumerate*}\n\\item 6\n\\item 9\n\\end{enumerate*}\n",
            "text/markdown": "1. 6\n2. 9\n\n\n",
            "text/html": [
              "<style>\n",
              ".list-inline {list-style: none; margin:0; padding: 0}\n",
              ".list-inline>li {display: inline-block}\n",
              ".list-inline>li:not(:last-child)::after {content: \"\\00b7\"; padding: 0 .5ex}\n",
              "</style>\n",
              "<ol class=list-inline><li>6</li><li>9</li></ol>\n"
            ]
          },
          "metadata": {
            "tags": []
          }
        }
      ]
    },
    {
      "cell_type": "code",
      "metadata": {
        "id": "6PSOXA8_UUlW"
      },
      "source": [
        "b = c(4,6,8)"
      ],
      "execution_count": null,
      "outputs": []
    },
    {
      "cell_type": "markdown",
      "metadata": {
        "id": "VW_n9yPSUak3"
      },
      "source": [
        "Para probar qué elementos de *a* son menores que los elementos correspondientes a *b*, escribimos"
      ]
    },
    {
      "cell_type": "code",
      "metadata": {
        "id": "t8ueicIAUZzD",
        "colab": {
          "base_uri": "https://localhost:8080/",
          "height": 34
        },
        "outputId": "61a74379-f35e-4834-c687-d94c38a8c9fe"
      },
      "source": [
        "a<b"
      ],
      "execution_count": null,
      "outputs": [
        {
          "output_type": "display_data",
          "data": {
            "text/plain": [
              "[1]  TRUE FALSE FALSE"
            ],
            "text/latex": "\\begin{enumerate*}\n\\item TRUE\n\\item FALSE\n\\item FALSE\n\\end{enumerate*}\n",
            "text/markdown": "1. TRUE\n2. FALSE\n3. FALSE\n\n\n",
            "text/html": [
              "<style>\n",
              ".list-inline {list-style: none; margin:0; padding: 0}\n",
              ".list-inline>li {display: inline-block}\n",
              ".list-inline>li:not(:last-child)::after {content: \"\\00b7\"; padding: 0 .5ex}\n",
              "</style>\n",
              "<ol class=list-inline><li>TRUE</li><li>FALSE</li><li>FALSE</li></ol>\n"
            ]
          },
          "metadata": {
            "tags": []
          }
        }
      ]
    },
    {
      "cell_type": "markdown",
      "metadata": {
        "id": "IKPS5co2Unhe"
      },
      "source": [
        "Para imprimir los elementos de *a* que son menores que los correspondientes elementos de *b*, escribimos"
      ]
    },
    {
      "cell_type": "code",
      "metadata": {
        "id": "jUmzhoRqUlGn",
        "colab": {
          "base_uri": "https://localhost:8080/",
          "height": 34
        },
        "outputId": "90cabc4d-0312-4db8-e376-af88556a69d1"
      },
      "source": [
        "a[a<b]"
      ],
      "execution_count": null,
      "outputs": [
        {
          "output_type": "display_data",
          "data": {
            "text/plain": [
              "[1] 3"
            ],
            "text/latex": "3",
            "text/markdown": "3",
            "text/html": [
              "3"
            ]
          },
          "metadata": {
            "tags": []
          }
        }
      ]
    },
    {
      "cell_type": "code",
      "metadata": {
        "id": "shfsSrBRXVdr"
      },
      "source": [
        ""
      ],
      "execution_count": null,
      "outputs": []
    }
  ]
}